{
 "cells": [
  {
   "cell_type": "markdown",
   "id": "seeing-compound",
   "metadata": {},
   "source": [
    "# Etude numérique d'un filtre linéaire\n",
    "\n",
    "__But :__ Simuler, à l'aide d'un langage de programmation, l'action d'un filtre sur un signal périodique. Mettre en évidence l'influence des caractéristiques du filtre sur l'opération de filtrage.\n",
    "\n",
    "## Fonctions utiles\n",
    "\n",
    "Cette activité fait suite à l'activité où vous avez appris à reconstruire un signal à partir des ses composantes spectrales. Pour gagner du temps les fonctions utiles qui avaient déjà été implémentées sont redonnées ici."
   ]
  },
  {
   "cell_type": "code",
   "execution_count": null,
   "id": "meaning-crash",
   "metadata": {},
   "outputs": [],
   "source": [
    "from numpy.fft import fft, ifft\n",
    "import matplotlib.pyplot as plt\n",
    "import numpy as np\n",
    "from scipy.io.wavfile import read, write  # Pour importer et écrire un fichier son wav\n",
    "\n",
    "def fonc_temp(t, fs, amps, phis):\n",
    "    \"\"\"\n",
    "    Renvoie la somme des composantes spectrales définies par\n",
    "    - leurs fréquences freqs\n",
    "    - leurs amplitudes amprs\n",
    "    - leurs phases à l'origine phis\n",
    "    et le calcul à un temps t.\n",
    "    Cette fonction est vectorialisable : t peut-être un vecteur numpy\n",
    "    \"\"\"\n",
    "    n = len(fs)  # Nombre de composantes spectrales\n",
    "    s = 0  # Initialisation de la valeur du signal\n",
    "    for i in range(n):  # On va parcourir les composantes\n",
    "        if i % 2000 == 0:\n",
    "            print(\"{:.0f} %\".format(i / n * 100))\n",
    "        s += 2 * amps[i] * np.cos(2 * np.pi * fs[i] * t + phis[i])  # On ajoute la composante spectrale\n",
    "    return s\n",
    "\n",
    "\n",
    "def evalue_temp(fs, amps, phis, t1, t2, N):\n",
    "    \"\"\"\n",
    "    Renvoie deux vecteurs : \n",
    "    - un vecteur de N valeurs de temps tk entre t1 et t2\n",
    "    - un vecteur donnant le signal reconstruit à partir de \n",
    "    (fs(fréquence), amps(amplitudes), phis(phase à l\"origine))\n",
    "    calculé aux temps tk\n",
    "    \"\"\"\n",
    "    ts = np.linspace(t1, t2, N)  # Création du vecteur temps\n",
    "    return ts, fonc_temp(ts, fs, amps, phis)  # Les opérations de evalue_temp sont toutes vectorialisables\n",
    "\n",
    "\n",
    "def eval_fft(s, fe):\n",
    "    \"\"\"\n",
    "    Calcul la transformée de Fourier du signal donnée par le vecteur s et échantillonné à la fréquence fe\n",
    "    Il renvoie :\n",
    "    - la liste de fréquences\n",
    "    - la liste des amplitudes (jusqu'à fe/2)\n",
    "    - la liste des phases à l'origine\n",
    "    Pour un vecteur s de taille N, la taille de la décomposition sera int(N/2) \n",
    "    avec un pas de fréquence fe / N\n",
    "    \"\"\"\n",
    "    N = len(s)  # Taille de s pour le vecteur des fréquences\n",
    "    freqs = np.arange(int(N / 2)) * fe / N  # Liste de fréquence\n",
    "    sk = fft(s) / N  # Calcul de la TF\n",
    "    return freqs, np.abs(sk)[:int(N/2)] * 2, np.angle(sk)[:int(N/2)]\n",
    "\n"
   ]
  },
  {
   "cell_type": "markdown",
   "id": "bright-roommate",
   "metadata": {},
   "source": [
    "## Position du problème\n",
    "### Signal étudié.\n",
    "Le signal considéré est téléchargeable par [ce lien](https://github.com/pcsi3physiquestan/donnees_exp/blob/main/signal_bruitee.wav?raw=true). Vous pouvez l'écouter avec VLC ou Audacity : il s'agit un très court extrait d'une musique fortement bruitée.\n",
    "\n",
    "_Note : Le traitement préalable par Python des fichiers sonores n'est pas parfait et certains lecteurs risquent de ne pas lire correctement le fichier son._\n",
    "\n",
    "Nous allons :\n",
    "* transformer ce signal en un tableau numpy donnant deux signaux __temporels__ (gauche et droite).\n",
    "* Analyser son tracé temporel et sa décomposition spectrale pour observer qu'est-ce qui est responsable du bruit gênant.\n",
    "* Procéder à un filtrage approprié pour atténuer le bruit du signal.\n",
    "\n",
    "### Importation d'un fichier wav\n",
    "_Pensez à placer votre fichier au niveau du notebook pour pouvoir importer le fichier_.\n",
    "\n",
    "Deux fonctions ont été importées de la bibliothèque `scipy.io.wavfile`:\n",
    "* `read(chemin_vers_fichier)` qui importe un fichier `.wav` et qui renvoie deux éléments :\n",
    "    * la fréquence d'échantillonnage\n",
    "    * un tableau numpy contenant deux lignes : chacune représente le signal sonore temporel respectivement gauche et droite. Les valeurs sont des __flottants compris entre -1 et 1__.\n",
    "* `write(chemin_vers_fichier, samplerate, data)` qui va écrire dans un fichier .`wav` (il faudra lui donner la bonne extension et choisir un nom __different du fichier d'entrée__ le fichier son correspondant à data :\n",
    "    * `samplerate` est la fréquence d'échantillonnage\n",
    "    * `data` est un tableau numpy contenant 2 lignes donnant le signal sonore temporel gauche et droite. Les valeurs devront être des __flottants compris entre -1 et 1__."
   ]
  },
  {
   "cell_type": "markdown",
   "id": "miniature-madison",
   "metadata": {},
   "source": [
    "## Analyse du signal bruité\n",
    "> __Exercice 1 :__  \n",
    "> Vous devez :\n",
    "> 1. Afficher la fréquence d'échantillonnage du signal et le nombre de points de mesures. En déduire la durée de l'extrait sonore\n",
    "> 2. Pour chaque signal gauche et droite, tracer l'allure temporelle sur deux graphiques séparées (vous pouvez utiliser une fenêtre multigraphique). Pouvez-vous observer sur le signal temporel que le signal est bruité ?\n",
    "> 3. Pour chaque signal gauche et droite, obtenir le spectre grâce à la fonction `eval_fft` et la représenter  (vous pouvez utiliser une fenêtre multigraphique). Quelle bande spectrale correspond selon vous au bruit à supprimer ? Quel type de filtre va-t-on utiliser ?"
   ]
  },
  {
   "cell_type": "code",
   "execution_count": null,
   "id": "victorian-tribute",
   "metadata": {},
   "outputs": [],
   "source": [
    "\"\"\"Les bibliothèques utiles ont déjà été importées.\"\"\"\n",
    "\n",
    "\"\"\"Les instructions suivantes chargent les données du fichier wav.\n",
    "\"\"\"\n",
    "filename = ''  # Entrer ici le chemin relatif vers le fichier sonore téléchargé\n",
    "samplerate, datas = read(filename)\n"
   ]
  },
  {
   "cell_type": "markdown",
   "id": "requested-harbor",
   "metadata": {
    "lines_to_next_cell": 2
   },
   "source": [
    "## Dimensionnement du filtre.\n",
    "On va considérer qu'il convient :\n",
    "* de garder un gain supérieur à $G_1 = 0.9$ au dessous de $f_1 = 1500Hz$.\n",
    "* d'avoir un gain inférieur à $G_2 = 0.1$ au dessus de $f_2 = 2500Hz$.\n",
    "\n",
    "### Choix du filtre\n",
    "Le filtre que nous allons choisir est un filtre passe-bas dit de Butterworth d'ordre n. Comme expliqué en devoir libre, il a les caractéristiques suivantes :\n",
    "* son gain réel s'écrit sous la forme : $G = {1 \\over \\sqrt{1 + x^{2n}}}$ avec $x = {\\omega \\over \\omega_c}$ et $\\omega_c$ la pulsation de coupure du filtre.\n",
    "\n",
    "L'intérêt est que quelque soit l'ordre choisi, la pulsation de coupure sera la même. On pourra donc étudier l'influence de l'ordre du filtre sans devoir réadapter sa pulsation de coupure.\n",
    "\n",
    "Pour obtenir un tel gain réel, la fonction de transfert pour un filtre d'ordre $n$ doit s'écrire sous la forme :\n",
    "\n",
    "$$\n",
    "H(j\\omega) = {1 \\over \\prod_{k=1}^{k=n} \\left({j \\omega \\over \\omega_c} - p_k\\right)} = {1 \\over \\prod_{k=1}^{k=n} \\left({j f \\over f} - p_k\\right)}\n",
    "$$\n",
    "\n",
    "avec $p_k = \\exp\\left( {j (2k + n -1 }) \\pi \\over 2n\\right)$ et $f_c$ la fréquence de coupure du filtre.\n",
    "\n",
    "### Ordre du filtre\n",
    "> __Exercice 2:__  \n",
    "> (Pensez à bien lire les indications)\n",
    "> 1. Ecrire une fonction `butterworth` qui renvoie la fonction de transfert complexe d'un filtre de Butterworth d'ordre `n` calculé en une fréquence `f` et qui prend comme argument :\n",
    ">     * `f` la fréquence où on veut calculer la fonction de transfert.\n",
    ">     * `fc` la fréquence du coupure du filtre.\n",
    ">     * `n` l'ordre du filtre\n",
    "> 2. En utilisant la fonction `logspace` de `numpy`, créer un vecteur de fréquence régulièrement répartie sur un axe logarithmique entre 100Hz et 10kHz. Puis utiliser ce vecteur pour tracer le diagramme de Bode en gain pour un filtre de Butterworth d'ordre 1 et de fréquence de coupure $f_c = 1kHz$. Vérifier qu'on a bien le tracé de la fonction de transfert $H(j\\omega) = {1 \\over 1 + j {f \\over f_c}}$.\n",
    "> \n",
    "> La grandeur $\\eta = {G(f_2)^{-2} - 1 \\over G(f_1)^{-2} - 1}$ pour un filtre de Butterworth d'ordre $n$ ne dépend pas de la fréquence de coupure, mais uniquement du rapport $f_2 /f_1$ et de l'ordre $n$ du filtre (on s'entraînera chez soi à le démontrer).  \n",
    "> On peut montrer de plus que le cahier des charges impose que $\\eta > {G_2^{-2} - 1 \\over G_1^{-2} - 1}$\n",
    "> \n",
    "> 3. Utiliser le calcul numérique de $\\eta$ et écrire un script qui détermine l'ordre $n_{min}$ minimal que doit avoir le filtre pour le cahier des charges choisi. On travaillera par la suite avec l'ordre $n_{min}$.\n",
    ">     \n",
    "\n",
    "_Indications utiles :_\n",
    "* La fonction `butterworth` ne doit pas être nécessairement vectorialisable en `f`, vous réaliserez une boucle pour créer un vecteur de valeurs pour plusieurs valeurs de `f`.\n",
    "* Le nombre complexes $j$ tel $j^2 = -1$ s'écrit sous Python `1j` (le 1 est obligatoire et il est collé au j). Pour écrire $variable \\times j$, on écrira : `variable * 1j` (ou évidemment `1j * variable`).\n",
    "* Pour le diagramme de Bode :\n",
    "    * Signature de `logspace` : `logspace(start, stop, N)` crée `N` fréquences uniformément répartie sur un axe logarithmique entre $10^{start}$ et $10^{stop}$.\n",
    "    * Le module d'un complexe s'obtient avec la fonction `np.abs` et le logarithme décimal s'obtient par la fonction `np.log10`.\n",
    "    * Le tracé d'un diagramme semi-log se fait avec la fonction `semilogx`, elle a les mêmes caractéristiques que la fonction `plot`\n",
    "    * (Esthétique) Utiliser la fonction `ax.grid(which='both', axis='both')` pour afficher une grille semblable à celles vu sur les diagrammes de Bode."
   ]
  },
  {
   "cell_type": "code",
   "execution_count": null,
   "id": "filled-cargo",
   "metadata": {},
   "outputs": [],
   "source": []
  },
  {
   "cell_type": "markdown",
   "id": "inner-causing",
   "metadata": {},
   "source": [
    "### Choix de $f_c$\n",
    "_Pour toute la suite, on travaillera avec un filtre d'ordre $n_{min}$._\n",
    "\n",
    "> __Exercice 3:__  \n",
    "> 1. Ecrire un script qui, partant d'une fréquence de coupure $f_c = f_1$ détermine la fréquence de coupure minimale telle que $G(f_1) > 0.9$. Vérifier alors que $G(f_2) < 0.1$.\n",
    "> 2. Tracer le diagramme de Bode en gain du filtre pour $f_c$ trouvée précédemment et vérifier visuellement son ordre et que les gains en $f_1$ et $f_2$ suivent le cahier des charges."
   ]
  },
  {
   "cell_type": "code",
   "execution_count": null,
   "id": "sweet-record",
   "metadata": {},
   "outputs": [],
   "source": []
  },
  {
   "cell_type": "markdown",
   "id": "christian-chain",
   "metadata": {},
   "source": [
    "## Filtrage du signal sonore\n",
    "### Réalisation du filtrage\n",
    "> __Exercice 4 :__  \n",
    "> 1. Ecrire une fonction `reponse(fc, n, fs, amps, phis)` qui prend comme argument la fréquence de coupure `fc` et l'ordre `n` d'un filtre de Butterworth passe-bas ainsi que la décomposition spectrale d'un signal d'entrée (`fs`(fréquence), `amps`(amplitudes), `phis`(phase à l'origine). et qui renvoie la décomposition spectrale du signal de sortie sous la forme de 2 vecteurs : les amplitudes de chaque composantes et les phases à l'origine de chaque composante.\n",
    "> 2. Appliquer la fonction `reponse` avec le filtre de Butterworth dimensionnée précédemment aux signaux gauche et droite de l'extrait sonore bruité.\n",
    "> 3. Tracer le spectre des deux signaux gauche et droite __traités__ par le filtre. Vérifier que le filtre abien jouer son rôle.\n",
    "> 4. Recréer les signaux temporels filtrés `s_gauche` et `s_droite` à partir des représentations fréquentielles obtenues précédemment. (Il est important de bien respecter ces deux noms.\n",
    "\n",
    "__Attention, il y a plus de 10000 fréquences pour reconstruire le signal. Cela peut prendre un peu de temps. Pensez à sauvegarder votre travail avant d'exécuter la cellule.__ Un compteur affiche l'avancé de la reconstruction du signal temporel lors de l'utilisation de la fonction `evalue_temp`."
   ]
  },
  {
   "cell_type": "code",
   "execution_count": null,
   "id": "hearing-addition",
   "metadata": {},
   "outputs": [],
   "source": []
  },
  {
   "cell_type": "markdown",
   "id": "focused-valve",
   "metadata": {},
   "source": [
    "### Création du fichier sonore\n",
    "Si tout à été fait correctement, la cellule ci-dessous peut-être exécutée directement. Elle va créer un fichier sonore `.wav` à partir du signal filtré. Il ne vous reste plus qu'à écouter le signal ainsi obtenu pour vérifier qu'on a bien filtré le bruit parasite.\n",
    "\n",
    "Vous pourrez le comparer à l'[extrait original](https://github.com/pcsi3physiquestan/donnees_exp/blob/main/signal_court.wav?raw=true) (le bruit ayant été ajouté artificiel pour ce TD)."
   ]
  },
  {
   "cell_type": "code",
   "execution_count": null,
   "id": "pleasant-waters",
   "metadata": {},
   "outputs": [],
   "source": [
    "# On doit normaliser le signal pour que les valeurs soit comprises entre -1 et 1\n",
    "# En pratique, on place les valeurs entre -0.5 et 0.5 pour éviter tout risque de saturation\n",
    "reponse2 = []\n",
    "reponse2.append(s_gauche / np.max(s_gauche)) * 0.5\n",
    "reponse2.append(s_droite / np.max(s_droite) * 0.5\n",
    "reponse2 = np.array(reponse2)  # La fonction write impose l'utilisation d'un array\n",
    "\n",
    "\n",
    "filesortie = 'signal_filtree.wav'  # Nom du fichier, il sera dans le même répertoire que votre notebook\n",
    "write(filesortie, samplerate, reponse2)"
   ]
  },
  {
   "cell_type": "markdown",
   "id": "lasting-possession",
   "metadata": {},
   "source": [
    "## Conclusion\n",
    "Nous avons donc pu réaliser le traitement d'un signal. Même s'il a été fait sur des signaux numériques, ce traitement reste \"analogique\" au sens où il suit exactement le même procédé qu'un filtre analogique étudié en TP.\n",
    "\n",
    "Cette méthode est néanmoins problématique car elle demande beaucoup de ressource et du temps de calcul (on n'a ici traité que 2s secondes de musique échantilonnée à 8kHz, ce qui est peu et la reconstruction du signal était déjà longue).\n",
    "\n",
    "En pratique, le traitement d'un signal numérique se fait par des filtres __numériques__ qui s'appliquent directement sur le signal temporel échantillonné ($s_k$). Certains de ces filtres seront vus en deuxième année suivant les options. La bibliothèques `scipy` propose notamment plusieurs fonctions natives et optimisées pour le traitement des signaux numériques (sous bibliothèques `scipy.signal`).\n",
    "\n",
    "On ne présente pas ici ces méthodes qui ne sont pas au programme mais sachez qu'on peut notamment utiliser un filtre de Butterworth ou son équivalent numérique grâce à cette bibliothèque."
   ]
  },
  {
   "cell_type": "code",
   "execution_count": null,
   "id": "macro-unemployment",
   "metadata": {},
   "outputs": [],
   "source": []
  }
 ],
 "metadata": {
  "jupytext": {
   "encoding": "# -*- coding: utf-8 -*-",
   "formats": "ipynb,py:light,md:myst"
  },
  "kernelspec": {
   "display_name": "Python 3",
   "language": "python",
   "name": "python3"
  },
  "language_info": {
   "codemirror_mode": {
    "name": "ipython",
    "version": 3
   },
   "file_extension": ".py",
   "mimetype": "text/x-python",
   "name": "python",
   "nbconvert_exporter": "python",
   "pygments_lexer": "ipython3",
   "version": "3.9.2"
  }
 },
 "nbformat": 4,
 "nbformat_minor": 5
}
