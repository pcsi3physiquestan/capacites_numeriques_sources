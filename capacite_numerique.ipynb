{
 "cells": [
  {
   "cell_type": "markdown",
   "id": "29f45a32",
   "metadata": {},
   "source": [
    "# Capacités numériques en physique\n",
    "Voici le recueil des activités sur les capacités numériques pour l'année."
   ]
  }
 ],
 "metadata": {
  "jupytext": {
   "encoding": "# -*- coding: utf-8 -*-",
   "formats": "ipynb,md:myst",
   "split_at_heading": true
  },
  "kernelspec": {
   "display_name": "Python 3",
   "language": "python",
   "name": "python3"
  }
 },
 "nbformat": 4,
 "nbformat_minor": 5
}
