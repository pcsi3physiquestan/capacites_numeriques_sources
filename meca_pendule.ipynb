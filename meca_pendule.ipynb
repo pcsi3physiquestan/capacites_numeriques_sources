{
 "cells": [
  {
   "cell_type": "markdown",
   "id": "animated-armstrong",
   "metadata": {},
   "source": [
    "# Etude d'un pendule simple\n",
    "\n",
    "__But :__ à l’aide d’un langage de programmation, mettre en évidence le non isochronisme des oscillations d'un pendule."
   ]
  },
  {
   "cell_type": "markdown",
   "id": "hollywood-string",
   "metadata": {},
   "source": [
    "## Position du problème\n",
    "Nous allons chercher à étudier les oscillations d'un pendule simple :\n",
    "1. Aux petites oscillations. Ce sera l'occasion de tester le schéma d'Euler mis en place pour étudier le système en le comparant aux attentes.\n",
    "2. Pour des oscillations quelconques. On cherchera alors à déterminer la période des oscillations en fonction de l'amplitude pour observer le __non isochoronisme des oscillations__. On comparera notamment les résultats trouvés à la formule théorique approchée.\n",
    "\n",
    "### Mise en équation\n",
    "On considère un pendule simple de longueur $l$ sans sources d'amortissement dans un champ de pesanteur uniforme $g$. La masse au bout du pendule est $m$.\n",
    "\n",
    "Pour les applications numériques, on prendra $l = 1 m; g = 9.81 m.s^{-2}; m=1 kg$.\n",
    "\n",
    "On rappelle que la mise en équation du pendule amène à l'équation :\n",
    "\n",
    "$$\n",
    "\\ddot \\theta + {g \\over l} \\sin \\theta = 0\n",
    "$$\n",
    "\n",
    "qui devient aux petits angles :\n",
    "\n",
    "$$\n",
    "\\ddot \\theta + {g \\over l} \\theta = 0\n",
    "$$\n",
    "\n",
    "L'énergie potentielle de pesanteur s'écrit :\n",
    "\n",
    "$$\n",
    "E_p(\\theta) = mgl(1 - \\cos \\theta)\n",
    "$$\n",
    "\n",
    "et l'énergie cinétique : $E_c = {1 \\over 2} m l^2 \\dot \\theta^2$\n",
    "\n",
    "### Schéma d'Euler\n",
    "On va utiliser un schéma d'Euler explicite. Le système étant d'ordre 2, on utilise un système d'équations différentielles définit par la relation vectorielle :\n",
    "\n",
    "$$\n",
    "\\frac{\\rm{d}Y}{\\rm{dt}} = F(t, Y(t))\n",
    "$$\n",
    "\n",
    "où \n",
    "$ Y(t) = \\begin{pmatrix}\n",
    "\\theta(t)\\\\\n",
    "\\dot \\theta(t)\n",
    "\\end{pmatrix}\n",
    "$\n",
    "\n",
    "Pour des valeurs discrètes $Y_k$ aux temps $t_k$ (on notera $x_k$ et $v_k$ les valeurs de $\\theta(t)$ et $\\dot \\theta(t)$ aux temps $t_k$), on peut approcher la dérivée de la fonction entre $t_k$ et $t_{k+1}$ par :\n",
    "\n",
    "$$\n",
    "\\frac{\\rm{d}Y}{\\rm{dt}} = {Y_{k+1} - Y_{k} \\over t_{k+1} - t_k}\n",
    "$$\n",
    "\n",
    "soit, en notant $h = t_{k+1} - t_k$ :\n",
    "\n",
    "$$\n",
    "Y_{k+1} = Y_k + h \\times F(t_k, Y(t_k))\n",
    "$$\n",
    "\n",
    "On a la relation de récurrence qui définit les $Y_k$ par le schéma d'Euler (explicite)."
   ]
  },
  {
   "cell_type": "markdown",
   "id": "august-helmet",
   "metadata": {},
   "source": [
    "## Implémentation du schéma d'Euler\n",
    "Cette fois, on va directement raisonner avec le __vecteur $Y_k$__ et non avec deux grandeurs séparées $\\theta_k$ et $\\dot \\theta_k$\n",
    "\n",
    ">  __Exercice 1 :__  \n",
    "> Vous devez :\n",
    "> 1. Ecrire une fonction `F_petit` qui prend comme argument un flottant `t` et un vecteur `Y` à deux éléments et qui renvoie le vecteur `F(t, Y)` dans le cas d'un pendule aux petites oscillations.\n",
    "> 2. Ecrire une fonction `euler` qui prend comme arguments :\n",
    ">     * une fonction `F` (semblable à `F_petit` qui prendra le même type d'arguments et renverra le même type de vecteur).\n",
    ">     * un vecteur `Y0` donnant les __deux__ conditions initiales (ici à $t=0$) sur les deux composants de `Y`\n",
    ">     * un flottant `h` qui sera le pas d'intégration $h = t_{k+1} - t_k$\n",
    ">     * un flottant `tf` qui sera le temps final de l'intégration.\n",
    ">     et qui renvoie :\n",
    ">     * un tableau à 3 colonnes contenant respectivement : les temps $t_k$, les angles $\\theta_k$ et les vitesses angulaires $\\dot \\theta_k$.\n",
    "\n",
    "_Données utiles :_  \n",
    "* Pour créer un tableau, de taille N lignes et 3 colonnes rempli de 0, la syntaxe est `np.zeros((N, 3))`. A vous de prévoir le nombre de lignes du tableau.\n",
    "* La sélection de la ligne d'indice i d'un tableau se fait par `tableau[i]`. Attention, les indices commencent à 0 et se terminent à N-1.\n",
    "* La sélection de l'élément d'indice (i, j) d'un tableau se fait par `tableau[i, j]`. Attention, les indices commencent à 0 et se terminent à N-1.\n",
    "* Vous pouvez remplier directement une ligne d'un tableau numpy par la syntaxe `tableau[indice_ligne] = [v1, v2]`"
   ]
  },
  {
   "cell_type": "code",
   "execution_count": 6,
   "id": "weird-queens",
   "metadata": {},
   "outputs": [
    {
     "name": "stdout",
     "output_type": "stream",
     "text": [
      "17.945564993506114\n"
     ]
    }
   ],
   "source": [
    "\"\"\"\n",
    "Ne pas oublier d'importer les bibliothèques scientifiques.\n",
    "\"\"\""
   ]
  },
  {
   "cell_type": "markdown",
   "id": "continuous-memphis",
   "metadata": {},
   "source": [
    "## Test sur le système aux petits angles\n",
    "\n",
    "### Intégration numérique\n",
    "> __Exercice 2 :__  \n",
    "> Vous devez :\n",
    "> 1. Ecrire une fonction `sol_ptangle` qui prend comme argument un temps `t` et un vecteur à deux éléments `Y0` et qui renvoie la solution analytique de l'équation du pendule simple aux petits angles avec comme conditions initiales les élements du vecteur `Y0` à l'instant `t`. Cette fonction devra être vectorialisable c'est-à-dire qu'elle doit pouvoir s'appliquer correctement que `t` soit un flottant ou un vecteur numpy.\n",
    "> 2. Utiliser la fonction `euler` pour résoudre numériquement le cas du pendule aux petits angles en supposant que le pendule par du point le plus bas avec une vitesse angulaire $\\omega_i = .1 rad/s$. Tracer alors sur le même graphique la solution analytique et la solution numérique pour les comparer. __On réfléchira au choix du pas d'intégration et à l'intervale de temps $[0, t_f]$ d'étude.__\n",
    "\n",
    "_Données utiles :_  \n",
    "* Pour sélectionner une colonne d'un tableau, on utilise la syntaxe `tableau[:, i]` où `i` est l'indice de la colonne (qui démarre à 0)."
   ]
  },
  {
   "cell_type": "code",
   "execution_count": null,
   "id": "criminal-convention",
   "metadata": {},
   "outputs": [],
   "source": []
  },
  {
   "cell_type": "markdown",
   "id": "major-foster",
   "metadata": {},
   "source": [
    "### Détermination de la période.\n",
    "Par la suite, le signal ne sera plus forcément sinusoïdal mais restera périodique, on va chercher à déterminer la période du signal obtenu par résolution numérique.\n",
    "\n",
    "__Méthode choisie__ : On va déterminer les temps $t_{0i}$ successifs des points où la solution numérique pour $\\theta(t)$ s'annule (plus précisément les temps médians entre deux instants où le signal change de signe). Comme il n'y a que 2 annulations des angles dans une période (cf. étude des systèmes conservatifs), il suffira de compter le nombre $N_0$ de 0. La période $T$ du signal s'écrit alors :\n",
    "\n",
    "$$\n",
    "T = {t_{0N_0} - t_{01} \\over {N_0 - 1 \\over 2}}\n",
    "$$\n",
    "\n",
    "> __Exercice 3 :__  \n",
    "> 1. Ecrire une fonction `periode` qui prend en arguments deux vecteurs de mêmes taille `tk` et `thetak` et qui renvoie la période du signal `thetak` en considérant les `tk` comme les temps associés.\n",
    "> 2. Tester votre fonction sur le signal intégré numériquement pour vérifier que vous trouvez bien la bonne période."
   ]
  },
  {
   "cell_type": "code",
   "execution_count": null,
   "id": "north-chicago",
   "metadata": {},
   "outputs": [],
   "source": []
  },
  {
   "cell_type": "markdown",
   "id": "caring-tuesday",
   "metadata": {},
   "source": [
    "## Anisochronisme des grandes oscillations.\n",
    "On a observé théoriquement que la période des oscillations dépendaient aux fortes amplitudes des oscillations. Pour une amplitude \"pas trop forte\", une approximation de l'intégrale trouvée en TD amène à la formule dite de Borda :\n",
    "\n",
    "$$\n",
    "T \\approx T_0 (1 + {\\theta_0 ^2 \\over 16})\n",
    "$$\n",
    "\n",
    "avec $T_0$ la période propre aux petites oscillations\n",
    "\n",
    "\n",
    "> __Exercice 4 :__\n",
    "> 1. Pour une liste d'amplitude angulaire entre 0 et $\\pi$ (non inclus) (5 valeurs), vous devez :\n",
    ">     * Procéder à l'intégration numérique de l'évolution de l'angle _sans approximation_ pour l'amplitude considérée et la solution analytique aux petits angles\n",
    ">     * Tracer sur deux graphiques : l'évolution temporelle de $\\theta(t)$ et le portrait de phase du pendule our l'amplitude considérée.\n",
    ">     * Comparer à chaque fois la solution aux petits angles et la solution numérique trouvée.\n",
    "> 2. Ecrire une fonction `periode_borda` qui renvoie pour une amplitude `theta0` donnée la période approchée par la formule de Borda\n",
    "> 2. Pour une liste d'amplitude angulaire entre $\\pi / 50$ et $\\pi$ (non inclus) (49 valeurs), vous devez déterminer pour chaque amplitude la période des oscillations pour le signal obtenu numériquement $T_{num}(\\theta_0)$ et par la formule de Borda $T_{Borda}(\\theta_0)$ puis représenter les deux périodes en fonction de l'amplitude.\n",
    ">     * Observer alors l'anisochronisme des oscillations\n",
    ">     * Comparer les résultats obtenus par l'intégrale et par intégration numérique de l'équation différentielle. A partir de quand doit-on considérer la formule de Borda non acceptable."
   ]
  },
  {
   "cell_type": "code",
   "execution_count": null,
   "id": "spread-clarity",
   "metadata": {},
   "outputs": [],
   "source": []
  },
  {
   "cell_type": "markdown",
   "id": "consistent-wheel",
   "metadata": {},
   "source": [
    "## Trajectoire de diffusion\n",
    "On s'intéresse au cas où le pendule part de sa position la plus basse avec une vitesse angulaire $\\omega_i$.\n",
    "\n",
    "> __Exercice 5 :__  \n",
    "> 1. Déterminer par le calcul la pulsation $\\omega_i$ qui permet d'atteindre l'angle $\\pi$ et de s'y arrêter. En théorie, quel temps met-on pour atteindre ce point ?\n",
    "> 2. Intégrer l'équation du pendule avec la valeur de $\\omega_i$ précédente et observer l'allure de $\\theta(t)$ et $\\dot \\theta(t)$. Commenter\n",
    "> 3. Intégrer l'équation du pendule avec une valeur de $\\omega_i$ supérieure à celle trouvée précédemment et observer l'allure de $\\theta(t)$ et $\\dot \\theta(t)$. Commenter."
   ]
  },
  {
   "cell_type": "code",
   "execution_count": null,
   "id": "unlimited-staff",
   "metadata": {},
   "outputs": [],
   "source": []
  }
 ],
 "metadata": {
  "jupytext": {
   "encoding": "# -*- coding: utf-8 -*-",
   "formats": "ipynb,md:myst,py:light",
   "split_at_heading": true
  },
  "kernelspec": {
   "display_name": "Python 3",
   "language": "python",
   "name": "python3"
  },
  "language_info": {
   "codemirror_mode": {
    "name": "ipython",
    "version": 3
   },
   "file_extension": ".py",
   "mimetype": "text/x-python",
   "name": "python",
   "nbconvert_exporter": "python",
   "pygments_lexer": "ipython3",
   "version": "3.9.2"
  }
 },
 "nbformat": 4,
 "nbformat_minor": 5
}
