{
 "cells": [
  {
   "cell_type": "markdown",
   "id": "elder-ending",
   "metadata": {},
   "source": [
    "# Système conservatif : Effets non linéaires.\n",
    "\n",
    "__But :__  résoudre numériquement une équation différentielle du deuxième ordre non-linéaire et faire apparaître l’effet des termes non-linéaires."
   ]
  },
  {
   "cell_type": "markdown",
   "id": "sweet-communications",
   "metadata": {},
   "source": [
    "## Position du problème\n",
    "Nous allons chercher à résoudre numériquement l'équation d'évolution traduisant la vibration d'une molécule HCl. La différence de masse des deux atomes permet de supposer que l'atome de chlore est immobile. On travaillera donc dans son référentiel qu'on supposera galiléen. On suppose le mouvement de l'atome d'hydrogène rectiligne suivant un axe Ox (O étant la position du chlore)\n",
    "\n",
    "Le système HCl est supposé isolé. On suppose que l'interaction intramoléculaire est modélisée par l'énergie potentielle :\n",
    "\n",
    "$$\n",
    "E_p = {C \\over r^n} - \\alpha {e^2 \\over 4\\pi \\epsilon_0 r}\n",
    "$$\n",
    "\n",
    "avec : $C = 2.2 \\times 10^{-138} J.m^{12}; \\alpha = 0.40; n = 12; \\epsilon_0 = 8.85 \\times 10^{-12} SI; e=1.6\\times 10^{-19}C$\n",
    "\n",
    "et la masse de l'hydrogène : $m_H = 1.0 \\times 10^{-27} kg$\n",
    "\n",
    "Pour éviter de traiter des puissances trop importantes, on va changer les unités d'étude : la __masse__ sera en _unité de masse atomique_, les __distances__ en _Angstrom_, les __charges__ en nombre de fois _la charge élémentaire_ et  les __temps__ en _femtosecondes_. Les constantes précédentes prennent alors les valeurs suivantes (UA = Unité arbitraire):\n",
    "\n",
    "$C = 2.2 \\times 10^{-1} (UA); \\alpha = 0.40; n = 12; \\epsilon_0 = 3.45 \\times 10^{-1} (UA); e=1 (UA); m_H = 1 (UA)$"
   ]
  },
  {
   "cell_type": "markdown",
   "id": "charged-seattle",
   "metadata": {},
   "source": [
    "### Etude de l'énergie potentielle.\n",
    "\n",
    "> __Exercice 1__ :  \n",
    "> Vous devez :\n",
    "> 1. Ecrire une fonction `Ep` qui prend comme argument une distance `r` et qui renvoie l'énergie potentielle associée. _Il est conseillé d'enregistrer les variables C, alpha... comme des variables globales._\n",
    "> 2. Ecrire une fonction `force` qui prend comme argument une valeur `x` et `pas` et qui renvoie la valeur de la force : $F = - \\frac{dE_p}{dr}$ estimée en `x` par dérivation numérique en utilisant le pas `pas`.\n",
    "> 3. Tracer $E_p(r)$^et $F(r)$ pour $r$ entre 1 et 10 Angstrom.\n",
    "> 3. Déterminer, par une recherche de 0 par dichotomie, la distance `rE` correspondant à la position d'équilibre de la molécule avec une tolérance de $10^{-4} \\mathring{A}$.\n",
    "\n",
    "__Utiliser la notation scientifique 4e-4 pour entrer la valeur numérique $4\\times 10^{-4}$.__"
   ]
  },
  {
   "cell_type": "code",
   "execution_count": 19,
   "id": "pacific-switzerland",
   "metadata": {},
   "outputs": [
    {
     "data": {
      "text/plain": [
       "\"\\nN'oubliez pas les bibliothèques scientifiques \\net pensez à commenter votre code.\\n\""
      ]
     },
     "execution_count": 19,
     "metadata": {},
     "output_type": "execute_result"
    }
   ],
   "source": [
    "\"\"\"\n",
    "N'oubliez pas les bibliothèques scientifiques \n",
    "et pensez à commenter votre code.\n",
    "\"\"\""
   ]
  },
  {
   "cell_type": "markdown",
   "id": "anticipated-nepal",
   "metadata": {},
   "source": [
    "## Schéma d'Euler pour un équation d'ordre 2\n",
    "\n",
    "On rappelle le principe, on utilise deux fonctions inconnues :\n",
    "\n",
    "$$\n",
    "\\begin{pmatrix}\n",
    "x(t)\\\\\n",
    "v(t)\n",
    "\\end{pmatrix}\n",
    "$$\n",
    "\n",
    "On a alors la relation :\n",
    "\n",
    "$$\n",
    "{\\rm{d} \\over \\rm{dt}}\n",
    "\\begin{pmatrix}\n",
    "x(t)\\\\\n",
    "v(t)\n",
    "\\end{pmatrix}\n",
    "=\n",
    "\\begin{pmatrix}\n",
    "v(t)\\\\\n",
    "{\\sum F_{ext}(t, x, v) \\over m} = f(t, x, v)\n",
    "\\end{pmatrix}\n",
    "$$\n",
    "\n",
    "On peut alors implémenter le schéma d'Euler explicite sur le vecteur précédent :\n",
    "\n",
    "$$\n",
    "\\begin{pmatrix}\n",
    "x_{k+1}\\\\\n",
    "v_{k+1}\n",
    "\\end{pmatrix}\n",
    "=\n",
    "\\begin{pmatrix}\n",
    "x_{k} + h \\times v_k\\\\\n",
    "v_k + h \\times f(t, x, v)\n",
    "\\end{pmatrix}\n",
    "$$\n",
    "\n",
    "où $h$ est le pas d'intégration."
   ]
  },
  {
   "cell_type": "markdown",
   "id": "sticky-devices",
   "metadata": {},
   "source": [
    "> __Exercice 2__:\n",
    "> 1. Préciser l'expression de $f(t, x, v)$ pour notre système et définir une fonction `f_hcl(t, x, v)` qui renvoie cette expression.\n",
    "> 2. Définir une fonction `euler` qui prend pour argument : \n",
    ">    * `f` : la fonction du schéma d'Euler\n",
    ">    * `h` : le pas d'intégration choisi\n",
    ">    * `x0` et `v0` : les conditions initiales sur la position et la vitesse au temps initial $t=0$\n",
    ">    * `tf` : le temps final pour l'intégration.\n",
    ">  \n",
    ">    et qui renvoie trois vecteurs :  \n",
    ">    * `tk` les temps où on calcule les positions vitesses\n",
    ">    * `xk` les positions $x(t_k)$\n",
    ">    * `vk` les vitesses $v(t_k)$\n",
    "> 3. Vous pouvez tester votre fonction sur une chute libre ($f(t, x, v) = g = 10$) avec un faible nombre de points."
   ]
  },
  {
   "cell_type": "code",
   "execution_count": 21,
   "id": "interstate-vessel",
   "metadata": {},
   "outputs": [
    {
     "data": {
      "text/plain": [
       "'\\nPensez à réutiliser les fonctions déjà définies.\\n'"
      ]
     },
     "execution_count": 21,
     "metadata": {},
     "output_type": "execute_result"
    }
   ],
   "source": [
    "\"\"\"\n",
    "Pensez à réutiliser les fonctions déjà définies.\n",
    "\"\"\""
   ]
  },
  {
   "cell_type": "markdown",
   "id": "partial-significance",
   "metadata": {},
   "source": [
    "## Application à l'étude de la vibration\n",
    "\n",
    "### Effets de non linéarité\n",
    "Le but est d'observer les vibrations de la molécule autour de sa position d'équilibre pour :\n",
    "* une vibration de très faible amplitude : $(r - r_E) < 0.01 r_E$\n",
    "* une vibration plus importante : $(r - r_E) < 0.2 r_E$\n",
    "\n",
    "On cherchera à observer par les tracés temporelles et le portrait de phase si l'approximation linéaire de l'équation pourrait être valable et quelle sont les effets de non linéarité.\n",
    "\n",
    "> __Exercice 3:__  \n",
    "> Vous devez :\n",
    "> 1. Définir une fonction `Ec(v)` qui renvoient l'énergie cinétique du système pour une vitesse donnée.\n",
    "> 2. Utiliser votre implémentation du schéma d'Euler pour obtenir les temps $t_k$, positions $x(t_k)$ et vitesses $v(t_k)$ pour les deux cas étudiées puis les énergies potentielles $E_p(t_k)$, énergie cinétique $E_c(t_k)$ et énergie mécanique $E_m(t_k)$ aux temps $t_k$.\n",
    "> 3. Tracer alors une fenêtre avec 4 graphiques : l'un donnant $x(t)$, le second $v(t)$, le troisième le portrait de phase et le quatrième l'évolution des 3 termes énergétiques.\n",
    "> 4. Observer l'influence du pas d'intégration et l'adapter pour une intégration correcte.\n",
    "> 5. Observer si ces évolutions sont cohérentes avec l'approximation linéaire et sinon quelles sont les différences."
   ]
  },
  {
   "cell_type": "code",
   "execution_count": null,
   "id": "robust-proceeding",
   "metadata": {},
   "outputs": [],
   "source": []
  },
  {
   "cell_type": "markdown",
   "id": "threaded-jewelry",
   "metadata": {},
   "source": [
    "### Fonctions de la bibliothéque scipy\n",
    "Nous allons utiliser la fonction `odeint` de la bibliothèque `scipy.integrate`. Sa signature est :\n",
    "\n",
    "```\n",
    "scipy.integrate.odeint(func, y0, t, tfirst=True)\n",
    "```\n",
    "\n",
    "* `func` : fonction qui renvoie le vecteur :\n",
    "$$\\begin{pmatrix}\n",
    "v_k\\\\\n",
    "f(t, x, v)\n",
    "\\end{pmatrix}\n",
    "$$\n",
    "Plus généralement, on utiliser la représentation matricielle :\n",
    "$$\n",
    "Y_{k+1} = Y_k + h * F(t, x, v)\n",
    "$$\n",
    "\n",
    "avec \n",
    "\n",
    "$$\n",
    "Y_k = \\begin{pmatrix}\n",
    "x_k\\\\\n",
    "v_k\n",
    "\\end{pmatrix}\n",
    "$$\n",
    "et $F$ une fonction qui renvoie un vecteur (deux valeurs). Ici le vecteur donné précédemment.\n",
    "* `y0` est un __vecteur__ donnant les conditions initiales.\n",
    "* `t` est le vecteur pour lequels les valeurs de $Y_k$ (positions et vitesses) seront calculées. (`t` doit être ordonné).\n",
    "\n",
    "__Précision sur le vecteur `t` et le pas d'intégration.__  \n",
    "_Vous remarquerez qu'on ne donne pas de pas d'intégration. Le vecteur `t` ne fait pas office de pas d'intégration. Les valeurs de position et vitesse à ces temps seront calculées ensuite par interpolation.  \n",
    "C'est la fonction odeint elle-même qui va déterminer le pas d'intégration par comparaison d'erreurs entre plusieurs méthodes. Elles peut fait varier ce pas d'intégration au cours du calcul : on dit que c'est une méthode à __pas variable.__ On peut régler la tolérance sur l'erreur avec des arguments optionnels non présentés ici.  \n",
    "Ce pas pouvant varier et quelles fois être grand, il est préférable de donner explicitement un vecteur avec des valeurs temps pour calculer les positions et vitesses a posteriori._\n",
    "\n",
    "> __Exercice 4:__  \n",
    "> 1. Créer une fonction `Fhcl(t, Y)` qui prend comme argument un temps `t` et le vecteur `Y` composé de deux éléments $(x_k, v_k)$ et qui renvoie le vecteur $F(t, Y)$ décrit précédemment.\n",
    "> 1. A vous de comprendre et utiliser la fonction précédente pour réaliser l'intégration du problème et étudier les vibration de la molécule."
   ]
  },
  {
   "cell_type": "markdown",
   "id": "blind-disease",
   "metadata": {},
   "source": [
    "## Trajectoire de diffusion\n",
    "> __Exercice 5:__  \n",
    "> 1. Comment choisir les conditions initiales pour placer l'hydrogène dans un état de diffusion ?\n",
    "> 2. Réaliser l'intégration numérique dans ces conditions et déterminer numériquement l'énergie cinétique à l'infini. Obtient-on ce qu'on attend ?"
   ]
  },
  {
   "cell_type": "code",
   "execution_count": null,
   "id": "oriental-picking",
   "metadata": {},
   "outputs": [],
   "source": []
  }
 ],
 "metadata": {
  "jupytext": {
   "encoding": "# -*- coding: utf-8 -*-",
   "formats": "ipynb,py:light,md:myst"
  },
  "kernelspec": {
   "display_name": "Python 3",
   "language": "python",
   "name": "python3"
  },
  "language_info": {
   "codemirror_mode": {
    "name": "ipython",
    "version": 3
   },
   "file_extension": ".py",
   "mimetype": "text/x-python",
   "name": "python",
   "nbconvert_exporter": "python",
   "pygments_lexer": "ipython3",
   "version": "3.9.2"
  }
 },
 "nbformat": 4,
 "nbformat_minor": 5
}
