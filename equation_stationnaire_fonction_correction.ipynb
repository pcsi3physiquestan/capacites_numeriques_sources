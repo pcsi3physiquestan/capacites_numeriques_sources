{
 "cells": [
  {
   "cell_type": "markdown",
   "id": "6ba42357",
   "metadata": {},
   "source": [
    "## Préambule : Fonction\n",
    "\n",
    "Avant de traiter le problème, on va donner deux possibilités pour résoudre une équation stationnaire :\n",
    "* écrire une fonction `dicho(f,a,b,prec)` comme demandé précédemment utilisant la dichotomie. _On fera un test à la fois sur la largeur de l'intervalle et sur la valeur maximale de $f$ sur l'intervalle._\n",
    "* utiliser une fonction native de `scipy.optimize` : `bisect`"
   ]
  },
  {
   "cell_type": "code",
   "execution_count": 36,
   "id": "19717c65",
   "metadata": {},
   "outputs": [
    {
     "name": "stdout",
     "output_type": "stream",
     "text": [
      "Help on function bisect in module scipy.optimize.zeros:\n",
      "\n",
      "bisect(f, a, b, args=(), xtol=2e-12, rtol=8.881784197001252e-16, maxiter=100, full_output=False, disp=True)\n",
      "    Find root of a function within an interval using bisection.\n",
      "    \n",
      "    Basic bisection routine to find a zero of the function `f` between the\n",
      "    arguments `a` and `b`. `f(a)` and `f(b)` cannot have the same signs.\n",
      "    Slow but sure.\n",
      "    \n",
      "    Parameters\n",
      "    ----------\n",
      "    f : function\n",
      "        Python function returning a number.  `f` must be continuous, and\n",
      "        f(a) and f(b) must have opposite signs.\n",
      "    a : scalar\n",
      "        One end of the bracketing interval [a,b].\n",
      "    b : scalar\n",
      "        The other end of the bracketing interval [a,b].\n",
      "    xtol : number, optional\n",
      "        The computed root ``x0`` will satisfy ``np.allclose(x, x0,\n",
      "        atol=xtol, rtol=rtol)``, where ``x`` is the exact root. The\n",
      "        parameter must be nonnegative.\n",
      "    rtol : number, optional\n",
      "        The computed root ``x0`` will satisfy ``np.allclose(x, x0,\n",
      "        atol=xtol, rtol=rtol)``, where ``x`` is the exact root. The\n",
      "        parameter cannot be smaller than its default value of\n",
      "        ``4*np.finfo(float).eps``.\n",
      "    maxiter : int, optional\n",
      "        If convergence is not achieved in `maxiter` iterations, an error is\n",
      "        raised. Must be >= 0.\n",
      "    args : tuple, optional\n",
      "        Containing extra arguments for the function `f`.\n",
      "        `f` is called by ``apply(f, (x)+args)``.\n",
      "    full_output : bool, optional\n",
      "        If `full_output` is False, the root is returned. If `full_output` is\n",
      "        True, the return value is ``(x, r)``, where x is the root, and r is\n",
      "        a `RootResults` object.\n",
      "    disp : bool, optional\n",
      "        If True, raise RuntimeError if the algorithm didn't converge.\n",
      "        Otherwise, the convergence status is recorded in a `RootResults`\n",
      "        return object.\n",
      "    \n",
      "    Returns\n",
      "    -------\n",
      "    x0 : float\n",
      "        Zero of `f` between `a` and `b`.\n",
      "    r : `RootResults` (present if ``full_output = True``)\n",
      "        Object containing information about the convergence. In particular,\n",
      "        ``r.converged`` is True if the routine converged.\n",
      "    \n",
      "    Examples\n",
      "    --------\n",
      "    \n",
      "    >>> def f(x):\n",
      "    ...     return (x**2 - 1)\n",
      "    \n",
      "    >>> from scipy import optimize\n",
      "    \n",
      "    >>> root = optimize.bisect(f, 0, 2)\n",
      "    >>> root\n",
      "    1.0\n",
      "    \n",
      "    >>> root = optimize.bisect(f, -2, 0)\n",
      "    >>> root\n",
      "    -1.0\n",
      "    \n",
      "    See Also\n",
      "    --------\n",
      "    brentq, brenth, bisect, newton\n",
      "    fixed_point : scalar fixed-point finder\n",
      "    fsolve : n-dimensional root-finding\n",
      "\n",
      "[1.256431208626509, 5.133671265866724e-13]\n",
      "1.2564312086269638 1.2012613126444194e-12\n"
     ]
    }
   ],
   "source": [
    "# Bibliothèques scientifiques\n",
    "import numpy as np\n",
    "import matplotlib.pyplot as plt\n",
    "from scipy.optimize import bisect\n",
    "\n",
    "\n",
    "#  ---- Fonction implémentant la dichotomie -------------\n",
    "# Note sur la signature de la fonction:\n",
    "# callable = fonction\n",
    "# list[float] = liste (classique) de flottants\n",
    "# Les annotations qui donnent la signature de la fonction sont purement indicatives, Python ne les vérifie pas.\n",
    "def dicho(f: callable, a: float, b: float, prec: float) -> list[float]:\n",
    "    \"\"\"\n",
    "    Version demandée :\n",
    "    Renvoie la racine de f située entre a et b avec une précision prec\n",
    "    \"\"\"\n",
    "    # On vérifie qu'il y a bien au moins une racine (cf. deuxième semestre)\n",
    "    assert f(a) * f(b) <= 0\n",
    "    \n",
    "    # Cas exotique : Cas où la racine est sur les bords\n",
    "    if f(a) == 0:\n",
    "        return [a, f(a)]\n",
    "    elif f(b) == 0:\n",
    "        return [b, f(b)]\n",
    "    \n",
    "    # Méthode de dichotomie\n",
    "    bg, bd = a, b # (Facultatif) On évite de modifier les arguments. On modifiera bg et bd\n",
    "    while ((bd-bg) > prec) and (max(f(bd), f(bg)) > prec):\n",
    "        c = (bg + bd) / 2\n",
    "        if f(c) == 0: # Racine au milieu\n",
    "            return [c, f(c)]\n",
    "        elif f(bg) * f(c) < 0: # Changement de signe à gauche\n",
    "            bd = c\n",
    "        else: # Changement de signe à droite\n",
    "            bg = c\n",
    "    c = (bg + bd) / 2\n",
    "    return [c, f(c)]\n",
    "    \n",
    "\n",
    "# ---- Fonction native --------\n",
    "help(bisect)\n",
    "# Remarque : pas de besoin de donner une précision, celle par défaut suffit : bisect(f,a,b)\n",
    "\n",
    "#Sur un exemple\n",
    "def f(x):\n",
    "    return np.exp(x)-2*x- 1\n",
    "\n",
    "print(dicho(f, 1, 3, 1e-12))\n",
    "c = bisect(f, 1, 3)\n",
    "print(c, f(c))\n"
   ]
  },
  {
   "cell_type": "markdown",
   "id": "0c79da66",
   "metadata": {},
   "source": [
    "---\n",
    "La page ci-présente existe en version notebook téléchargeable grâce au bouton ![Bouton](./images/bouton_tl.png) (choisir le format `.ipynb`). On rappelle qu'l faut ensuite l'enregistrer dans un répertoire adéquat sur votre ordinateur (`capa_num` par exemple dans votre répertoire personnel) puis lancer Jupyter Notebook depuis Anaconda pour accéder au notebook, le modifier et exécutez les cellules de code adéquates.\n",
    "\n",
    "# Etude du redressement monoalternance\n",
    "Nous allons utiliser la méthode précédente pour chercher le point de fonctionnement du [circuit précédent](pos_pb_eq) à chaque instant $t$ en supposant que $E$ varie: $E(t) = E_0 \\cos (2 \\pi f t)$ avec $E_0 = 2 \\rm{V}$ et $f = 50 \\rm{Hz}$.\n",
    "\n",
    "On suppose que les caractéristiques des dipôles restent valables en régime variable de sorte qu'à un instant $t$, la tension $u_D$ est donnée par la solution de l'équation:\n",
    "\n",
    "$$\n",
    "  f(u) = \\frac{E(t)-u}{R} - I_s\\left(\\exp \\left(\\frac{u}{V_T}\\right) - 1\\right)\n",
    "$$\n",
    "avec $I_s = 95 \\rm{\\mu A}$ et $V_D = 30 \\rm{mV}$ et $t$ un instant connu.\n",
    "\n",
    "On va donc devoir réaliser une recherche de racine un grand nombre de fois. Il est donc préférable de mettre la série d'instructions pour déterminer la racine de $f$ dans une fonction.\n",
    "\n",
    "## Fonction pour résoudre\n",
    "\n",
    "> __Exercice 1:__  \n",
    "> 1. Importer les bibliothèques `numpy` et `matplotlib.pyplot`\n",
    "> 1. Définir une fonction `Esource(t)` qui renvoie la valeur de $E(t)$ pour un instant $t$ donné en argument et une fonction `f_test(u)` qui renvoie la valeur de $f$ pour une tension $u$ donnée en argument de la fonction (elle utilisera une valeur `E` de tension pour la source comme une variable globale, les autres grandeurs Is, VT... peuvent être définie dans la fonction `f_test`, cf remarque par la suite).\n",
    "> 1. _(Si ça na pas été fait précédemment)_ Tracer la fonction $f$ entre $[-1,1]$ pour $t = 0$ (donc $E = 2\\rm{V}$) et vérifier graphiquement qu'il n'y bien qu'une seule racine dans l'intervalle (_Note: On peut démontrer que la fonction est strictement décroissante, on a donc bien unicité de la racine quand elle existe._)\n",
    "\n",
    "__Remarque__:  \n",
    "Le code ressemblera donc à ceci:\n",
    "\n",
    "```{code-block}\n",
    "def Esource(t):\n",
    "  # corps du code si necessaire\n",
    "  return ....\n",
    "\n",
    "def f_test(u):\n",
    "  # corps du code si necessaire\n",
    "  # La tension E sera notée E sans être définie par exemple :\n",
    "  R = 100\n",
    "  i = (E - u) / R\n",
    "  return i\n",
    "\n",
    "# Pour utiliser f_test:\n",
    "E = 1  # Nécessaire\n",
    "f_test(u)\n",
    "# On pourra redéfinir E avant chaque appel de f_test si nécessaire\n",
    "```"
   ]
  },
  {
   "cell_type": "code",
   "execution_count": 37,
   "id": "18c3178c",
   "metadata": {
    "tags": [
     "remove-output",
     "hide-input"
    ]
   },
   "outputs": [
    {
     "data": {
      "image/png": "[encoded data removed]",
      "text/plain": [
       "<Figure size 432x288 with 1 Axes>"
      ]
     },
     "metadata": {
      "needs_background": "light"
     },
     "output_type": "display_data"
    }
   ],
   "source": [
    "E0 = 2\n",
    "f = 50\n",
    "def Esource(t):  # Tension en fonction du temps\n",
    "    return E0 * np.cos(2 * np.pi * f * t)\n",
    "\n",
    "def f_test(u):  # Fonction de test\n",
    "    R = 100\n",
    "    Is = 95e-6\n",
    "    VT = 30e-3\n",
    "    i = (E - u) / R - Is * (np.exp(u / VT) - 1)\n",
    "    return i\n",
    "\n",
    "E = 2\n",
    "u = np.arange(-5, 0.3, 0.01)\n",
    "\n",
    "fg, ax = plt.subplots()\n",
    "ax.plot(u, f_test(u))\n",
    "ax.grid()\n",
    "plt.show()"
   ]
  },
  {
   "cell_type": "markdown",
   "id": "5aa0635e",
   "metadata": {},
   "source": [
    "> __Exercice 2:__  \n",
    "> 1. Ecrire une fonction `dicho(f,a0,b0,prec)` qui va chercher la racine de la fonction `f` dans l'intervalle initiale $[a0,b0]$ avec une précision `prec` par la méthode de dichotomie.\n",
    "> 2. Tester la fonction avec `f_test` et $E = 2\\rm{V}$ et vérifier la cohérence avec ce qu'on obtient graphiquement.\n",
    "\n",
    "* L'argument `f` est la __fonction__ donc `f` ou `f_test`, pas _ce qu'elle renvoie_ (c'est-à-dire `f(0)` ou `f_test(1)`, _on a la même différence entre une fonction et l'image d'une fonction_).\n",
    "* Par contre, à l'intérieur de `dicho`. Comme `f` est une fonction, on pourra l'appeler en utilisant `f(a)`, `f(1)`...\n",
    "* Ne pas modifier les valeurs des arguments `a0` et `b0` : il faut les réassigner à deux variables internes à la fonction (_`a` et `b` par exemple_) et modifier ces deux variables dans la boucle.\n",
    "* Il est conseillé de tester initialement si le produit $f(a0)f(b0)$ est bien négatif et renvoyer `None` sinon. Cela évitera des résultats absurdes si l'on cherche dans un intervalle où il n'y a pas de racine. _Quand vous aurez avancé le cours d'informatique, vous pourrez remplacer ce comportement par une assertion._"
   ]
  },
  {
   "cell_type": "code",
   "execution_count": 38,
   "id": "4ad62653",
   "metadata": {
    "tags": [
     "remove-output",
     "hide-input"
    ]
   },
   "outputs": [
    {
     "name": "stdout",
     "output_type": "stream",
     "text": [
      "[0.15817101692334745, 2.699160339680873e-13]\n",
      "0.15817101692277902 6.263982388343692e-13\n"
     ]
    }
   ],
   "source": [
    "# Cf. début pour la définition de dicho. On va utiliser dicho ET bisect.\n",
    "E = 2\n",
    "print(dicho(f_test, -5, 5, 1e-12))\n",
    "c = bisect(f_test, -5, 5)\n",
    "print(c, f_test(c))\n"
   ]
  },
  {
   "cell_type": "markdown",
   "id": "f4214c1c",
   "metadata": {},
   "source": [
    "## Application au redressement monoalternance\n",
    "> __Exercice 3:__  \n",
    "> Ecrire une suite d'instruction:\n",
    "> 1. Définir un vecteur `E_k` qui prendre 1000 valeurs de $E(t)$ aux instants $t_k$ équirépartis sur 2 périodes de $E(t)$.\n",
    "> 2. Dans une boucle, pour chaque valeur de $E_k$, rechercher la tension $u_D$ correspondant et la stocker dans une liste.\n",
    "> 3. Transformer la liste des tensions `uD` en un vecteur puis obtenir les valeurs d'intensités correspondantes $i(t)$ (pensez aux fonctions vectorialisables pour l'obtenir en une instruction).\n",
    "> 4. Obtenir les valeurs de la tension $uR$ à chaque instant et tracer $u_R (t)$. Pourquoi parle-t-on de redressement ? monoalternance ?\n",
    "\n",
    "* Note : Réfléchir au choix de l'intervalle de recherche."
   ]
  },
  {
   "cell_type": "code",
   "execution_count": 48,
   "id": "0da57f24",
   "metadata": {
    "tags": [
     "remove-output",
     "hide-input"
    ]
   },
   "outputs": [
    {
     "data": {
      "image/png": "[encoded data removed]",
      "text/plain": [
       "<Figure size 432x288 with 1 Axes>"
      ]
     },
     "metadata": {
      "needs_background": "light"
     },
     "output_type": "display_data"
    }
   ],
   "source": [
    "tk = np.linspace(0, 2 / f, 1000)\n",
    "Ek = Esource(tk)\n",
    "ud = []\n",
    "for E in Ek:\n",
    "    ud.append(bisect(f_test, -5, 5))\n",
    "\n",
    "\n",
    "fg, ax  = plt.subplots()\n",
    "ax.set_xlabel(\"t(s)\")\n",
    "ax.set_ylabel(\"Tensions(V)\")\n",
    "ax.plot(tk, Ek, label=\"E(t)\")\n",
    "ax.plot(tk, ud, label=\"uD(t)\")\n",
    "\n",
    "# On va aussi tracer uR qui correspond au vrai redressement monoalternance\n",
    "# On a uR = E - u\n",
    "\n",
    "ud = np.array(ud) #Transformation en vecteur\n",
    "ur = Ek - ud\n",
    "ax.plot(tk, ur, label=\"uR(t)\")\n",
    "\n",
    "ax.grid()\n",
    "ax.legend()\n",
    "plt.show()"
   ]
  },
  {
   "cell_type": "code",
   "execution_count": null,
   "id": "ebccc986",
   "metadata": {},
   "outputs": [],
   "source": []
  }
 ],
 "metadata": {
  "jupytext": {
   "encoding": "# -*- coding: utf-8 -*-",
   "formats": "ipynb,md:myst",
   "split_at_heading": true,
   "text_representation": {
    "extension": ".md",
    "format_name": "myst",
    "format_version": 0.13,
    "jupytext_version": "1.10.3"
   }
  },
  "kernelspec": {
   "display_name": "Python 3 (ipykernel)",
   "language": "python",
   "name": "python3"
  },
  "language_info": {
   "codemirror_mode": {
    "name": "ipython",
    "version": 3
   },
   "file_extension": ".py",
   "mimetype": "text/x-python",
   "name": "python",
   "nbconvert_exporter": "python",
   "pygments_lexer": "ipython3",
   "version": "3.9.6"
  }
 },
 "nbformat": 4,
 "nbformat_minor": 5
}
