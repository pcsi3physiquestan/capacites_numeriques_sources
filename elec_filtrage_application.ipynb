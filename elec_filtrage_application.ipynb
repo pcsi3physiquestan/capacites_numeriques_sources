{
 "cells": [
  {
   "cell_type": "markdown",
   "id": "f5bc368f",
   "metadata": {},
   "source": [
    "La page ci-présente existe en version notebook téléchargeable grâce au bouton ![Bouton](./images/bouton_tl.png) (choisir le format `.ipynb`). On rappelle qu'l faut ensuite l'enregistrer dans un répertoire adéquat sur votre ordinateur (`capa_num` par exemple dans votre répertoire personnel) puis lancer Jupyter Notebook depuis Anaconda pour accéder au notebook, le modifier et exécutez les cellules de code adéquates.\n",
    "\n",
    "\n",
    "# Application du filtre\n",
    "\n",
    "## Fonctions utiles\n",
    "\n",
    "Cette activité fait suite à l'activité où vous avez appris à reconstruire un signal à partir des ses composantes spectrales. Pour gagner du temps les fonctions utiles qui avaient déjà été implémentées sont redonnées ici."
   ]
  },
  {
   "cell_type": "code",
   "execution_count": null,
   "id": "a2a322e4",
   "metadata": {},
   "outputs": [],
   "source": [
    "from numpy.fft import fft, ifft\n",
    "import matplotlib.pyplot as plt\n",
    "import numpy as np\n",
    "from scipy.io.wavfile import read, write  # Pour importer et écrire un fichier son wav\n",
    "\n",
    "def fonc_temp(t, fs, amps, phis):\n",
    "    \"\"\"\n",
    "    Renvoie la somme des composantes spectrales définies par\n",
    "    - leurs fréquences freqs\n",
    "    - leurs amplitudes amprs\n",
    "    - leurs phases à l'origine phis\n",
    "    et le calcul à un temps t.\n",
    "    Cette fonction est vectorialisable : t peut-être un vecteur numpy\n",
    "    \"\"\"\n",
    "    n = len(fs)  # Nombre de composantes spectrales\n",
    "    s = 0  # Initialisation de la valeur du signal\n",
    "    for i in range(n):  # On va parcourir les composantes\n",
    "        if i % 2000 == 0:\n",
    "            print(\"{:.0f} %\".format(i / n * 100))\n",
    "        s += 2 * amps[i] * np.cos(2 * np.pi * fs[i] * t + phis[i])  # On ajoute la composante spectrale\n",
    "    return s\n",
    "\n",
    "\n",
    "def evalue_temp(fs, amps, phis, t1, t2, N):\n",
    "    \"\"\"\n",
    "    Renvoie deux vecteurs : \n",
    "    - un vecteur de N valeurs de temps tk entre t1 et t2\n",
    "    - un vecteur donnant le signal reconstruit à partir de \n",
    "    (fs(fréquence), amps(amplitudes), phis(phase à l\"origine))\n",
    "    calculé aux temps tk\n",
    "    \"\"\"\n",
    "    ts = np.linspace(t1, t2, N)  # Création du vecteur temps\n",
    "    return ts, fonc_temp(ts, fs, amps, phis)  # Les opérations de evalue_temp sont toutes vectorialisables\n",
    "\n",
    "\n",
    "def eval_fft(s, fe):\n",
    "    \"\"\"\n",
    "    Calcul la transformée de Fourier du signal donnée par le vecteur s et échantillonné à la fréquence fe\n",
    "    Il renvoie :\n",
    "    - la liste de fréquences\n",
    "    - la liste des amplitudes (jusqu'à fe/2)\n",
    "    - la liste des phases à l'origine\n",
    "    Pour un vecteur s de taille N, la taille de la décomposition sera int(N/2) \n",
    "    avec un pas de fréquence fe / N\n",
    "    \"\"\"\n",
    "    N = len(s)  # Taille de s pour le vecteur des fréquences\n",
    "    freqs = np.arange(int(N / 2)) * fe / N  # Liste de fréquence\n",
    "    sk = fft(s) / N  # Calcul de la TF\n",
    "    return freqs, np.abs(sk)[:int(N/2)] * 2, np.angle(sk)[:int(N/2)]\n"
   ]
  },
  {
   "cell_type": "markdown",
   "id": "e03b5853",
   "metadata": {},
   "source": [
    "## Filtre choisi\n",
    "\n",
    "> Recopier dans la cellule ci-dessous la fonction `butterworth` précédemment créée ainsi que les valeur `nmin` et `fc` choisie pour le dimensionnement (remarque : vous pouvez même créer une fonction `butterworth(f)` et mettre nmin et fc comme variable locale car elles ne changeront plus.)"
   ]
  },
  {
   "cell_type": "code",
   "execution_count": null,
   "id": "e7d31978",
   "metadata": {
    "tags": [
     "remove-output",
     "hide-input"
    ]
   },
   "outputs": [],
   "source": [
    "# Les bibliothèques scientifiques ont déjà été importées. PENSEZ A EXECUTER LA CELLULE PRECEDENTE."
   ]
  },
  {
   "cell_type": "markdown",
   "id": "63bcb3d1",
   "metadata": {},
   "source": [
    "## Application à des signaux simples.\n",
    "Nous allons tester le filtre sur des signaux simples:\n",
    "* un signal sinusoïdal de basse fréquence puis de haute fréquence\n",
    "* un signal modulé en amplitude\n",
    "* un signal créneau représenté par ses n premières composantes spectrales.\n",
    "\n",
    "\n",
    "> __Exercice 1:__  \n",
    "> 1. Définir trois __vecteurs__ `fs,amps, phis` représenter le spectre d'un signal d'entrée sinusoïdal de fréquence 100Hz puis utiliser la fonction `butterworth` pour obtenir les mêmes trois vecteurs `fss, ampss, phiss` pour le signal de sortie correspondant. Utiliser la fonctio `evalue_temp` pour tracer le signal d'entrée etle signal de sortie correspondant sur un même graphique. Obtient-on ce qu'on attend?\n",
    "> 2. Refaire de même pour un signal sinusoïdal de fréquence 10kHz.\n",
    "> 3. Refaire de même pour un signal modulé en amplitude contenant deux fréquences : l'une de 100Hz et l'autre de 10kHz et ayant la même amplitude.\n",
    "> 4. Refaire de même pour un signal créneau de fréquence 10kHz défini par ses $n=10$ premières harmoniques. On rappelle la décomposition d'un signal créneau est:\n",
    "\n",
    "$$\n",
    "s_{creneau} = \\sum_{i=1}^{m} {4 \\over \\pi (2i + 1)}\\ \\cos \\left ( 2 \\pi (2i + 1) f_0 t - \\frac{\\pi}{2}\\right)\n",
    "$$\n",
    "\n",
    "## Application au signal sonore\n",
    "### Importation d'un fichier wav\n",
    "Le signal considéré est téléchargeable par [ce lien](https://github.com/pcsi3physiquestan/donnees_exp/blob/main/signal_bruitee.wav?raw=true). _Pensez à placer votre fichier au niveau du notebook pour pouvoir importer le fichier_. On rappelle que les tracés temporels et fréquentiels ont déjà été donné précédemment.\n",
    "\n",
    "\n",
    "La cellule ci-dessous importe le signal sonore bruité et obtient le spectres (fréquence, amplitude et phase à l'origine) pour les deux signaux gauche et droite. Rien n'est à modifier mais __pensez à exécuter la cellule et à noter les variables à réutiliser pour la suite.__"
   ]
  },
  {
   "cell_type": "code",
   "execution_count": null,
   "id": "cb56fd39",
   "metadata": {
    "tags": [
     "remove-output",
     "hide-input"
    ]
   },
   "outputs": [],
   "source": [
    "filename = 'sources/signal_bruitee.wav'  # Entrer ici le chemin relatif vers le fichier sonore téléchargé\n",
    "samplerate, datas = read(filename)\n",
    "\n",
    "print('--------------')\n",
    "print(\"Fréquence d'échantilonnage : {} ech/s\".format(samplerate))\n",
    "print('--------------')\n",
    "\n",
    "\"\"\"Séparation des signaux gauche et droite\"\"\"\n",
    "gauche = datas[:, 0]  # Signal gauche\n",
    "droite = datas[:, 1]  # Signal droite\n",
    "npt = len(gauche)  # Nombre de points du signal\n",
    "\n",
    "freqs_g, amps_g, phis_g = eval_fft(gauche, samplerate)  # On utilise la fonction donnée\n",
    "freqs_d, amps_d, phis_d = eval_fft(gauche, samplerate)  # On utilise la fonction donnée"
   ]
  },
  {
   "cell_type": "markdown",
   "id": "e29d6d99",
   "metadata": {},
   "source": [
    "### Réalisation du filtrage\n",
    "> __Exercice 2 :__  \n",
    "> 1. Ecrire une fonction `reponse(fs, amps, phis)` qui prend comme argument la décomposition spectrale d'un signal d'entrée (`fs`(fréquence), `amps`(amplitudes), `phis`(phase à l'origine). et qui renvoie la décomposition spectrale du signal de sortie sous la forme de 2 vecteurs : les amplitudes de chaque composantes et les phases à l'origine de chaque composante pour le filtre de Butterworth.\n",
    "> 2. Appliquer la fonction `reponse` avec le filtre de Butterworth dimensionnée précédemment aux signaux gauche et droite de l'extrait sonore bruité.\n",
    "> 3. Tracer le spectre des deux signaux gauche et droite __traités__ par le filtre. Vérifier que le filtre abien jouer son rôle."
   ]
  },
  {
   "cell_type": "code",
   "execution_count": null,
   "id": "e55dc6fe",
   "metadata": {
    "tags": [
     "remove-output",
     "hide-input"
    ]
   },
   "outputs": [],
   "source": []
  },
  {
   "cell_type": "markdown",
   "id": "c8ccfaf8",
   "metadata": {},
   "source": [
    "> __Exercice 3:\n",
    "> 4. Recréer les signaux temporels filtrés `s_gauche` et `s_droite` à partir des représentations fréquentielles obtenues précédemment. (Il est important de bien respecter ces deux noms.\n",
    "\n",
    "__Attention, il y a plus de 10000 fréquences pour reconstruire le signal. Cela peut prendre un peu de temps. Pensez à sauvegarder votre travail avant d'exécuter la cellule.__ Un compteur affiche l'avancé de la reconstruction du signal temporel lors de l'utilisation de la fonction `evalue_temp`.\n",
    "\n",
    "_Respecter les noms es variables pour les deux signaux temporels car ils vont servir à la création du signal sonore final._"
   ]
  },
  {
   "cell_type": "code",
   "execution_count": null,
   "id": "ad5241b8",
   "metadata": {
    "tags": [
     "remove-output",
     "hide-input"
    ]
   },
   "outputs": [],
   "source": []
  },
  {
   "cell_type": "markdown",
   "id": "d2852858",
   "metadata": {},
   "source": [
    "### Création du fichier sonore\n",
    "Si tout à été fait correctement, la cellule ci-dessous peut-être exécutée directement. Elle va créer un fichier sonore `.wav` à partir du signal filtré. Il ne vous reste plus qu'à écouter (VLC ou Audacity) le signal ainsi obtenu pour vérifier qu'on a bien filtré le bruit parasite.\n",
    "\n",
    "Vous pourrez le comparer à l'[extrait original](https://github.com/pcsi3physiquestan/donnees_exp/blob/main/signal_court.wav?raw=true) (le bruit ayant été ajouté artificiel pour ce TD)."
   ]
  },
  {
   "cell_type": "code",
   "execution_count": null,
   "id": "ecdf4bb3",
   "metadata": {
    "tags": [
     "remove-output",
     "hide-input"
    ]
   },
   "outputs": [],
   "source": [
    "# On doit normaliser le signal pour que les valeurs soit comprises entre -1 et 1\n",
    "# En pratique, on place les valeurs entre -0.5 et 0.5 pour éviter tout risque de saturation\n",
    "reponse2 = []\n",
    "reponse2.append(s_gauche / np.max(s_gauche) * 0.5)\n",
    "reponse2.append(s_droite / np.max(s_droite) * 0.5)\n",
    "reponse2 = np.array(reponse2)  # La fonction write impose l'utilisation d'un array\n",
    "\n",
    "\n",
    "filesortie = 'signal_filtree.wav'  # Nom du fichier, il sera dans le même répertoire que votre notebook\n",
    "write(filesortie, samplerate, reponse2)"
   ]
  },
  {
   "cell_type": "markdown",
   "id": "41734416",
   "metadata": {},
   "source": [
    "## Conclusion\n",
    "Nous avons donc pu réaliser le traitement d'un signal. Même s'il a été fait sur des signaux numériques, ce traitement reste \"analogique\" au sens où il suit exactement le même procédé qu'un filtre analogique étudié en TP.\n",
    "\n",
    "Cette méthode est néanmoins problématique car elle demande beaucoup de ressource et du temps de calcul (on n'a ici traité que 2s secondes de musique échantilonnée à 8kHz, ce qui est peu et la reconstruction du signal était déjà longue).\n",
    "\n",
    "En pratique, le traitement d'un signal numérique se fait par des filtres __numériques__ qui s'appliquent directement sur le signal temporel échantillonné ($s_k$). Certains de ces filtres seront vus en deuxième année suivant les options. La bibliothèques `scipy` propose notamment plusieurs fonctions natives et optimisées pour le traitement des signaux numériques (sous bibliothèques `scipy.signal`).\n",
    "\n",
    "On ne présente pas ici ces méthodes qui ne sont pas au programme mais sachez qu'on peut notamment utiliser un filtre de Butterworth ou son équivalent numérique grâce à cette bibliothèque."
   ]
  }
 ],
 "metadata": {
  "jupytext": {
   "encoding": "# -*- coding: utf-8 -*-",
   "formats": "ipynb,py:light,md:myst",
   "text_representation": {
    "extension": ".md",
    "format_name": "myst",
    "format_version": 0.13,
    "jupytext_version": "1.10.3"
   }
  },
  "kernelspec": {
   "display_name": "Python 3 (ipykernel)",
   "language": "python",
   "name": "python3"
  },
  "language_info": {
   "codemirror_mode": {
    "name": "ipython",
    "version": 3
   },
   "file_extension": ".py",
   "mimetype": "text/x-python",
   "name": "python",
   "nbconvert_exporter": "python",
   "pygments_lexer": "ipython3",
   "version": "3.9.6"
  }
 },
 "nbformat": 4,
 "nbformat_minor": 5
}
