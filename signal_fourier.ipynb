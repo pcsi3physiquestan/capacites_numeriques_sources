{
 "cells": [
  {
   "cell_type": "markdown",
   "id": "terminal-savings",
   "metadata": {},
   "source": [
    "# Analyse spectrale d'un signal\n",
    "_Méthodes numériques_\n",
    "\n",
    "Dans cette séance, vous allez apprendre à :\n",
    "* Utiliser les objets Python comme les vecteurs numpy\n",
    "* Créer une fonction qui construit numériquement l'allure d'un signal temporel à partir de son spectre.\n",
    "* Obtenir le spectre d'un signal grâce à des fonctions natives de la bibliothèques `numpy.fft`\n"
   ]
  },
  {
   "cell_type": "markdown",
   "id": "extraordinary-instrumentation",
   "metadata": {},
   "source": [
    "## Position du problème\n",
    "\n",
    "### Eléments théoriques\n",
    "On rappelle que le __spectre__ d'un signal est sa décomposition en somme de sinusoïdes où l'on donne : la _fréquence_ ($f_i$), l'_amplitude_ $(A_i)$ et la _phase à l'origine_ ($\\phi_i$) de chaque sinusoïde de la décomposition :\n",
    "\n",
    "$$\n",
    "s(t) = \\sum_{i} A_i \\cos \\left ( 2 \\pi f_i t + \\phi_i \\right )\n",
    "$$\n",
    "\n",
    "_Pour rappel, pour les signaux périodiques, la somme est infinie et les fréquences $f_i$ sont des multiples de la fréquence $f$ du signal._\n",
    "\n",
    "### Réflexions préliminéaires\n",
    "\n",
    "__But :__ On veut pouvoir représenter un signal de deux manières :\n",
    "* son allure temporelle représentée mathématiquement par la fonction $x(t)$ évaluée sur un intervalle $[t_1, t_2]$\n",
    "* son spectre représenté par l'ensemble des triplets $(f_i, A_i, \\phi_i)$ de sa décomposition\n",
    "\n",
    "__Travail (5/10minutes) :__ Réfléchir au(x) type(s) de variable(s) qui permettent, sous `Python` de stocker la représentation de l'allure temporelle (l'intervalle $[t_1, t_2]$ et les valeurs de x sur cet intervalle) et à leur structure puis au(x) type(s) de variable(s) qui permettent de stocker la représentation du spectre d'un signal _(on supposera la somme finie, quitte à limiter la somme à N fréquences dans le cas de sommes infinies)_.\n",
    "\n",
    "__Après avoir réfléchi à la question précédente__, passer à la suite qui propose une représentation temporelle et fréquentielle sous Python.\n"
   ]
  },
  {
   "cell_type": "markdown",
   "id": "greenhouse-cookbook",
   "metadata": {},
   "source": [
    "### Représentation des signaux\n",
    "\n",
    "#### Représentation temporelle\n",
    "Dans un calcul numérique, l'évaluation de la fonction (pour sont tracé par exemple) ne peut être fait que pour des __valeurs discrètes__. On va donc définir pour un signal $s(t)$ dont on connaît la fonction temporelle $s$ :\n",
    "1. Une fonction qui associe à une valeur de temps $t_i$ la valeur calculée $s(t_i)$.\n",
    "2. Un vecteur numpy contenant des valeurs d'abscisses temporelles $t_k$ régulièrement réparties entre deux valeurs choisies $t_1$ et $t_2$ et de longueur $N$.\n",
    "3. Un vecteur numpy contenant les valeurs du signal $s_k$ aux instants $t_k$ : $s_k = s(t_k)$.\n",
    "\n",
    "On pourra alors tracer le signal temporel ou obtenir son spectre grâce aux fonctions natives de `numpy.fft`\n",
    "\n",
    "#### Représentation fréquentielle.\n",
    "Il y a une série de trois grandeurs, on va donc représenter le spectre d'un signal par trois vecteurs :\n",
    "* un contenant les fréquences $f_i$ de la décomposition\n",
    "* un contenant les amplitudes $A_i$ de la décomposition\n",
    "* un contenant les phases à l'origine $\\phi_i$ de la décomposition\n",
    "\n",
    "On pourra alors reconstruire la fonction $s(t)$ comme donnée précédemment et ainsi visualiser son allure temporelle. On pourra aussi représenter le spectre du signal.\n",
    "\n",
    "On réfléchira aux listes des m premiers éléments des décompositions spectrales des signaux créneaux et triangulaires (de fréquence $f_0$) données ci-dessous :\n",
    "\n",
    "$$\n",
    "s_{creneau} = \\sum_{k=1}^{m} {4 \\over \\pi (2k + 1)}\\ \\sin \\left ( 2 \\pi (2k + 1) f_0 t \\right)\n",
    "$$\n",
    "\n",
    "$$\n",
    "s_{triangle} = \\sum_{k=1}^{m} {8 \\over {\\left (\\pi (2k + 1)\\right)}^2}\\ \\sin \\left ( 2 \\pi (2k + 1) f_0 t \\right)\n",
    "$$"
   ]
  },
  {
   "cell_type": "markdown",
   "id": "tight-vegetation",
   "metadata": {},
   "source": [
    "## Du spectre à la représentation temporelle.\n",
    "\n",
    "> __Exercice 1__  \n",
    "> Dans la cellule de code suivante, vous devez :\n",
    "> 1. Ecrire une fonction `fonc_temp` qui prend 4 arguments : 1 flottant `t` et 3 vecteurs numpy `fs`, `amps`, `phis` (liste des fréquences amplitudes et phases à l'origine du spectre) et qui renvoie la valeur de $s$ définie dans les Eléments théoriques (plus haut) évaluée à l'instant `t`.\n",
    "> 2. Ecrire une fonction `evalue_temp` qui prend comme arguments : 3 vecteurs numpy `fs`, `amps`, `phis`, 2 flottants `t1`, `t2` et un entier `N` et qui renvoie deux vecteurs numpy:\n",
    ">    1. un vecteur contenant `N` valeurs de temps $t_k$ régulièrement réparties entre `t1` et `t2`\n",
    ">    2. un vecteur contenant les valeurs $s_k$ qui sont les évaluatinos de $s$ (définie dans les Eléments théoriques) aux instants $t_k$\n",
    "> 3. Ecrire une fonction `trace_spec` qui prend comme arguments 3 vecteurs numpy `fs`, `amps`, `phis` et qui trace le spectre du signal.\n",
    "> 4. Ecrire une fonction `trac_temp` qui prend comme arguments : 3 vecteurs numpy `fs`, `amps`, `phis`, 2 flottants `t1`, `t2` et un entier `N` et qui trace l'allure temporelle de $s$ entre `t1` et `t2` en évaluant `N` valeurs de temps régulièrement réparties.\n",
    "> 5. Utiliser les fonctions précédentes pour tracer le spectre puis l'allure temporelle d'un signal créneau et d'un signal triangle à partir des $m$ premières composantes spectrales de leur décomposition (m = 10). On discutera de la validité d'approximer les signaux créneaux et triangle par leurs 10 premières composantes.\n",
    "\n",
    "_Quelques indications utiles :_\n",
    "* Si une fonction retourne deux éléments (ex : return x, y) alors pour récuperer les __deux__ variables lors de l'appel de la fonction, on écrira `x0, y0 = fonction_appelee(...)`\n",
    "* _Pour le tracé des spectres_ : La fonction `bar(x, y, width, ...)` de `matplotlib.pyplot` fonctionne comme `plot` (mêmes options) mais trace des barres au lieu de points. L'argument `width` défini la largeur des barres, on prendra `0.05`"
   ]
  },
  {
   "cell_type": "code",
   "execution_count": 1,
   "id": "velvet-terrorist",
   "metadata": {},
   "outputs": [
    {
     "data": {
      "text/plain": [
       "\"Quelques indications :\\n- N'oubliez d'importer les bibliothèques scientifiques\\n- Pensez à utiliser les fonctions précédentes au lieu de tout réécrire.\\n- Pensez aux fonctions numpy pour créer simplement des vecteurs.\\n\""
      ]
     },
     "execution_count": 1,
     "metadata": {},
     "output_type": "execute_result"
    }
   ],
   "source": [
    "\"\"\"Quelques indications :\n",
    "- N'oubliez d'importer les bibliothèques scientifiques\n",
    "- Pensez à utiliser les fonctions précédentes au lieu de tout réécrire.\n",
    "- Pensez aux fonctions numpy pour créer simplement des vecteurs.\n",
    "\"\"\"\n",
    "\n",
    "\n",
    "\n"
   ]
  },
  {
   "cell_type": "markdown",
   "id": "sufficient-canyon",
   "metadata": {},
   "source": [
    "## Du tracé temporelle au spectre\n",
    "On suppose qu'on dispose de `N` mesures d'un signal $s$ faites avec une fréquence d'échantillonnage `fe`. Ces valeurs sont stockées dans un vecteur numpy `sk`. On veut obtenir la transformée de Fourier du signal $s$ basé sur les mesures `sk`.\n",
    "\n",
    "Nous allons utiliser la fonction native `fft` de la bibliothèque `numpy.fft`.\n",
    "* `fft(sk)` permet de calculer la TF à partir de `sk` pour une liste de valeurs de fréquences discrètes $f_i$. La fonction renvoie les amplitudes sous formes de grandeurs complexes :\n",
    "    * Le module est l'amplitude de la composante spectrale\n",
    "    * son argument est la phase à l'origine du signal.\n",
    "\n",
    "Les valeurs $f_i$ auxquelles le spectre est évalué sont données par la liste suivante :\n",
    "\n",
    "$$\n",
    "[0, 1, ..., N-1] \\times {fe \\over N}\n",
    "$$\n",
    "\n",
    "> __Exercice 2__  \n",
    "> Vous devez :\n",
    "> 1. Ecrire une fonction `eval_fft` qui prend comme argument un vecteur numpy `sk` et une fréquence d'échantilonnage `fe` et qui renvoie :\n",
    ">    1. une liste numpy contenant les fréquences $f_i$\n",
    ">    2. une liste numpy contenant les amplitudes associées à chaque composante spectrale de la TF de `sk`\n",
    ">    3. une liste numpy contenant les phases à l'origine associées à chaque composante spectrale de la TF de `sk`\n",
    "> 2. Créer des vecteurs de taille $N = 100$ simulant la mesure (parfaite !) d'un signal (prendre à chaque fois des amplitudes égales à $1 SI$) :\n",
    ">    1. sinusoïdal de fréquence 2kHz (réfléchir aux choix de la fréquence d'échantillonnage) et de valeur moyenne $1 SI$\n",
    ">    1. produit de deux sinusoïdes de fréquences 100Hz et 1kHz.\n",
    ">    1. créneau de fréquence 2kHz (réfléchir aux choix de la fréquence d'échantillonnage)\n",
    "> 3. Obtenir puis tracer le spectre pour chacun des signaux précédents. Commenter ce qu'on observe. On parlera en TP de __repli spectral__. En pratique, on ne peut mesurer une fréquence supérieure à $f_e/2$, c'est le __critère de Shannon-Nyquist__. Modifier la fonction `eval_fft` pour ne renvoyer les fréquences ainsi que les amplitudes et phases que jusqu'à $f_e/2$.\n",
    "> 4. Reconstruire le signal à partir des spectres obtenues et les tracer. On représente sur le même graphique, le signal acquis pour comparaison avec le signal reconstruit (le problème de repli spectral vous obligera à multiplier par 2 toutes les amplitudes).\n",
    "\n",
    "\n",
    "_Données utiles_ :\n",
    "* Les fonctions `abs` et `angle` de la bibliothèque `numpy` permettent de calculer respectivement le module et l'argument d'un complexe et peuvent s'appliquer sur un vecteur entier.\n",
    "* Plusieurs fonctions ont déjà été créés pour les dernières questions, ce n'est pas la peine de les réécrire."
   ]
  },
  {
   "cell_type": "code",
   "execution_count": 3,
   "id": "regulation-superintendent",
   "metadata": {
    "lines_to_next_cell": 0
   },
   "outputs": [],
   "source": [
    "\"\"\"On importe pour vous la fonction fft\"\"\"\n",
    "from numpy.fft import fft  # Avec cette méthode d'importation, vous pouver utiliser directement la syntaxe fft(...)\n",
    "\n",
    "\n",
    "\n"
   ]
  },
  {
   "cell_type": "code",
   "execution_count": null,
   "id": "double-macro",
   "metadata": {
    "lines_to_next_cell": 2
   },
   "outputs": [],
   "source": []
  }
 ],
 "metadata": {
  "jupytext": {
   "encoding": "# -*- coding: utf-8 -*-",
   "formats": "ipynb,py:light"
  },
  "kernelspec": {
   "display_name": "Python 3",
   "language": "python",
   "name": "python3"
  },
  "language_info": {
   "codemirror_mode": {
    "name": "ipython",
    "version": 3
   },
   "file_extension": ".py",
   "mimetype": "text/x-python",
   "name": "python",
   "nbconvert_exporter": "python",
   "pygments_lexer": "ipython3",
   "version": "3.9.2"
  }
 },
 "nbformat": 4,
 "nbformat_minor": 5
}
