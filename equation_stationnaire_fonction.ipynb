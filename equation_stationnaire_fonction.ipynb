{
 "cells": [
  {
   "cell_type": "markdown",
   "id": "0c79da66",
   "metadata": {},
   "source": [
    "---\n",
    "La page ci-présente existe en version notebook téléchargeable grâce au bouton ![Bouton](./images/bouton_tl.png) (choisir le format `.ipynb`). On rappelle qu'l faut ensuite l'enregistrer dans un répertoire adéquat sur votre ordinateur (`capa_num` par exemple dans votre répertoire personnel) puis lancer Jupyter Notebook depuis Anaconda pour accéder au notebook, le modifier et exécutez les cellules de code adéquates.\n",
    "\n",
    "# Etude du redressement monoalternance\n",
    "Nous allons utiliser la méthode précédente pour chercher le point de fonctionnement du [circuit précédent](pos_pb_eq) à chaque instant $t$ en supposant que $E$ varie: $E(t) = E_0 \\cos (2 \\pi f t)$ avec $E_0 = 2 \\rm{V}$ et $f = 50 \\rm{Hz}$.\n",
    "\n",
    "On suppose que les caractéristiques des dipôles restent valables en régime variable de sorte qu'à un instant $t$, la tension $u_D$ est donnée par la solution de l'équation:\n",
    "\n",
    "$$\n",
    "  f(u) = \\frac{E(t)-u}{R} - I_s\\left(\\exp \\left(\\frac{u}{V_T}\\right) - 1\\right)\n",
    "$$\n",
    "avec $I_s = 95 \\rm{\\mu A}$ et $V_D = 30 \\rm{mV}$ et $t$ un instant connu.\n",
    "\n",
    "On va donc devoir réaliser une recherche de racine un grand nombre de fois. Il est donc préférable de mettre la série d'instructions pour déterminer la racine de $f$ dans une fonction.\n",
    "\n",
    "## Fonction pour résoudre\n",
    "\n",
    "> __Exercice 1:__  \n",
    "> 1. Importer les bibliothèques `numpy` et `matplotlib.pyplot`\n",
    "> 1. Définir une fonction `Esource(t)` qui renvoie la valeur de $E(t)$ pour un instant $t$ donné en argument et une fonction `f_test(u)` qui renvoie la valeur de $f$ pour une tension $u$ donnée en argument de la fonction (elle utilisera une valeur `E` de tension pour la source comme une variable globale, les autres grandeurs Is, VT... peuvent être définie dans la fonction `f_test`, cf remarque par la suite).\n",
    "> 1. _(Si ça na pas été fait précédemment)_ Tracer la fonction $f$ entre $[-1,1]$ pour $t = 0$ (donc $E = 2\\rm{V}$) et vérifier graphiquement qu'il n'y bien qu'une seule racine dans l'intervalle (_Note: On peut démontrer que la fonction est strictement décroissante, on a donc bien unicité de la racine quand elle existe._)\n",
    "\n",
    "__Remarque__:  \n",
    "Le code ressemblera donc à ceci:\n",
    "\n",
    "```{code-block}\n",
    "def Esource(t):\n",
    "  # corps du code si necessaire\n",
    "  return ....\n",
    "\n",
    "def f_test(u):\n",
    "  # corps du code si necessaire\n",
    "  # La tension E sera notée E sans être définie par exemple :\n",
    "  R = 100\n",
    "  i = (E - u) / R\n",
    "  return i\n",
    "\n",
    "# Pour utiliser f_test:\n",
    "E = 1  # Nécessaire\n",
    "f_test(u)\n",
    "# On pourra redéfinir E avant chaque appel de f_test si nécessaire\n",
    "```"
   ]
  },
  {
   "cell_type": "code",
   "execution_count": null,
   "id": "18c3178c",
   "metadata": {
    "tags": [
     "remove-output",
     "hide-input"
    ]
   },
   "outputs": [],
   "source": []
  },
  {
   "cell_type": "markdown",
   "id": "5aa0635e",
   "metadata": {},
   "source": [
    "> __Exercice 2:__  \n",
    "> 1. Ecrire une fonction `dicho(f,a0,b0,prec)` qui va chercher la racine de la fonction `f` dans l'intervalle initiale $[a0,b0]$ avec une précision `prec` par la méthode de dichotomie.\n",
    "> 2. Tester la fonction avec `f_test` et $E = 2\\rm{V}$ et vérifier la cohérence avec ce qu'on obtient graphiquement.\n",
    "\n",
    "* L'argument `f` est la __fonction__ donc `f` ou `f_test`, pas _ce qu'elle renvoie_ (c'est-à-dire `f(0)` ou `f_test(1)`, _on a la même différence entre une fonction et l'image d'une fonction_).\n",
    "* Par contre, à l'intérieur de `dicho`. Comme `f` est une fonction, on pourra l'appeler en utilisant `f(a)`, `f(1)`...\n",
    "* Ne pas modifier les valeurs des arguments `a0` et `b0` : il faut les réassigner à deux variables internes à la fonction (_`a` et `b` par exemple_) et modifier ces deux variables dans la boucle.\n",
    "* Il est conseillé de tester initialement si le produit $f(a0)f(b0)$ est bien négatif et renvoyer `None` sinon. Cela évitera des résultats absurdes si l'on cherche dans un intervalle où il n'y a pas de racine. _Quand vous aurez avancé le cours d'informatique, vous pourrez remplacer ce comportement par une assertion._"
   ]
  },
  {
   "cell_type": "code",
   "execution_count": null,
   "id": "4ad62653",
   "metadata": {
    "tags": [
     "remove-output",
     "hide-input"
    ]
   },
   "outputs": [],
   "source": []
  },
  {
   "cell_type": "markdown",
   "id": "f4214c1c",
   "metadata": {},
   "source": [
    "## Application au redressement monoalternance\n",
    "> __Exercice 3:__  \n",
    "> Ecrire une suite d'instruction:\n",
    "> 1. Définir un vecteur `E_k` qui prendre 1000 valeurs de $E(t)$ aux instants $t_k$ équirépartis sur 2 périodes de $E(t)$.\n",
    "> 2. Dans une boucle, pour chaque valeur de $E_k$, rechercher la tension $u_D$ correspondant et la stocker dans une liste.\n",
    "> 3. Transformer la liste des tensions `uD` en un vecteur puis obtenir les valeurs d'intensités correspondantes $i(t)$ (pensez aux fonctions vectorialisables pour l'obtenir en une instruction).\n",
    "> 4. Obtenir les valeurs de la tension $uR$ à chaque instant et tracer $u_R (t)$. Pourquoi parle-t-on de redressement ? monoalternance ?\n",
    "\n",
    "* Note : Réfléchir au choix de l'intervalle de recherche."
   ]
  },
  {
   "cell_type": "code",
   "execution_count": null,
   "id": "0da57f24",
   "metadata": {
    "tags": [
     "remove-output",
     "hide-input"
    ]
   },
   "outputs": [],
   "source": []
  }
 ],
 "metadata": {
  "jupytext": {
   "encoding": "# -*- coding: utf-8 -*-",
   "formats": "ipynb,md:myst",
   "split_at_heading": true
  },
  "kernelspec": {
   "display_name": "Python 3 (ipykernel)",
   "language": "python",
   "name": "python3"
  },
  "language_info": {
   "codemirror_mode": {
    "name": "ipython",
    "version": 3
   },
   "file_extension": ".py",
   "mimetype": "text/x-python",
   "name": "python",
   "nbconvert_exporter": "python",
   "pygments_lexer": "ipython3",
   "version": "3.9.6"
  }
 },
 "nbformat": 4,
 "nbformat_minor": 5
}
