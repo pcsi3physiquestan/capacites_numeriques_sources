{
 "cells": [
  {
   "cell_type": "markdown",
   "id": "burning-young",
   "metadata": {},
   "source": [
    "# Résolution numérique d'une équation différentielle d'ordre 1\n",
    "\n",
    "__But :__ mettre en œuvre la méthode d’Euler à l’aide d’un langage de programmation pour simuler la réponse d’un système linéaire du premier ordre à une excitation de forme quelconque.\n",
    "\n",
    "## Rappels sur la méthode d'Euler\n",
    "\n",
    "La _méthode d'Euler_ est une méthode numérique d'intégration d'une équation différentielle.\n",
    "\n",
    "### Position du problème.\n",
    "Un équation différentielle d'ordre 1 peut se mettre sous la forme :\n",
    "\n",
    "$$\n",
    "\\frac{\\rm{d}y}{\\rm{dt}}(t) = f(t, y)\n",
    "$$\n",
    "avec $y(t_0) = y_0$\n",
    "\n",
    "où $y$ est la fonction inconnue.\n",
    "\n",
    "> Exemple : Pour un circuit RC série relié à une tension de tension $E(t)$, l'équation d'évolution est :\n",
    "> \n",
    "> $$\\frac{\\rm{d}u}{\\rm{dt}} = \\frac{1}{RC}\\left (E(t) - u(t) \\right )$$\n",
    "> \n",
    "> La fonction $f$ est donc :\n",
    "> \n",
    "> $$f(t, u) = \\frac{1}{RC}\\left (E(t) - u(t) \\right )$$\n",
    "\n",
    "### Schéma d'intégration d'Euler explicite\n",
    "\n",
    "La méthode d'Euler consiste à approximer la dérivée par un taux de variation fini calculé pour un pas de temps $h$ choisi :\n",
    "\n",
    "$$\n",
    "\\frac{\\rm{d}y}{\\rm{dt}} \\approx \\frac{y(t + h) - y(t)}{h}\n",
    "$$\n",
    "(on parle d'approximation à l'ordre 1.)\n",
    "\n",
    "On peut ainsi déterminer la valeur de la fonction $y(t + h)$ à partir de $f$ et de la valeur de la fonction à l'instant $t$ :\n",
    "\n",
    "$$\n",
    "y(t + h) = y(t) + h \\times f(t, y(t))\n",
    "$$\n",
    "\n",
    "On ne va donc pas calculer la fonction $y(t)$ pour tout instant $t$ mais une suite de valeurs $y_k$ aux instants $t_k = t_0 + k\\times h$ avec $k$ entier. On obtient une suite $(y_k)$ définie par la récurrence :\n",
    "\n",
    "$$\n",
    "y_{k+1} = y_k + h \\times f(t, y_k)\n",
    "$$\n",
    "\n",
    "\n",
    "## Application en électrocinétique.\n",
    "On traite le cas général d'un système d'ordre 1 stable de constante de temps $\\tau$. On va notamment étudier la réponse à plusieurs entrées :\n",
    "* un régime libre et un échelon de tension. On comparera avec la réponse attendue pour tester l'intégration numérique.\n",
    "* une rampe de tension suivie d'une tension constante.\n",
    "\n",
    "On étudiera l'influence du pas d'intégration sur la fiabilité de l'intégration numérique.\n",
    "\n",
    "### Implémentation du schéma d'Euler\n",
    "\n",
    "> __Exercice 1__\n",
    "> 1. Commencer par importer les bibliothèques scientifiques utiles : numpy, matplotlib.pyplot\n",
    "> 2. Ecrire une fonction `euler` \n",
    ">     * qui prend en arguments :\n",
    ">         * une variable `f` qui sera une fonction\n",
    ">         * un flottant `pas` qui sera le pas `h` d'intégration\n",
    ">         * deux flottants `t1` et `t2` donnant les temps initiaux et finaux de l'intervalle sur lesquels on va intégrer le signal (Note : `t2` ne sera pas forcément atteint)\n",
    ">         * un flottant `y1` donnant la valeur de $y(t)$ à l'instant `t1`  \n",
    ">     * et qui renvoie deux vecteurs numpy : \n",
    ">         * le premier contient les temps $t_k$ où on a évaluer la fonction (on commence à `t1`)\n",
    ">         * le second contient les valeurs estimées de $y$ ($y_k$)."
   ]
  },
  {
   "cell_type": "code",
   "execution_count": null,
   "id": "sorted-labor",
   "metadata": {},
   "outputs": [],
   "source": [
    "\"\"\"Ne pas oublier d'importer les bibliothèques scientifiques\"\"\""
   ]
  },
  {
   "cell_type": "markdown",
   "id": "confident-forward",
   "metadata": {},
   "source": [
    "### Application au régime libre et à l'échelon de tension.\n",
    "__On prendra $\\tau = 1$.__\n",
    "\n",
    "> __Exercice 2__\n",
    "> 1. Préciser l'expression de la fonction $f(t, y)$  dans le cas d'un régime libre et d'un échelon de tension ($E = 1V$) puis implémenter deux fonctions `f_libre` et `f_echelon` correspondant à ces fonctions (mettre les arguments `t` et `y` même s'ils n'interviennent pas dans la fonction).\n",
    "> 2. Définir deux fonctions `sol_libre` et `sol_echelon` qui prennent comme argument `t`, `t1` et `y0` et qui renvoient respectivement les solutions pour un régime libre puis pour un échelon de tension avec comme condition initiale $y(t1) = y0$.\n",
    "> 3. Utiliser le schéma d'Euler que vous avez implémenté pour résoudre numériquement le cas d'un régime libre et d'un échelon de tension. Choisir un pas d'intégration $pas = \\frac{1}{1000} \\tau$\n",
    "> 4. Tracer sur le même graphique la réponse numérique et la réponse analytique pour un régime libre puis pour un échelon de tension."
   ]
  },
  {
   "cell_type": "code",
   "execution_count": 1,
   "id": "constant-mineral",
   "metadata": {},
   "outputs": [
    {
     "data": {
      "text/plain": [
       "'La fonction euler que vous avez défini précédemment est accessibles'"
      ]
     },
     "execution_count": 1,
     "metadata": {},
     "output_type": "execute_result"
    }
   ],
   "source": [
    "\"\"\"La fonction euler que vous avez défini précédemment est accessibles\"\"\""
   ]
  },
  {
   "cell_type": "markdown",
   "id": "finnish-allowance",
   "metadata": {},
   "source": [
    "### Erreur et pas d'intégration\n",
    "\n",
    "> __Exercice 3__\n",
    "> 1. Reprendre l'exercice précédent mais en affichant deux graphiques (1 colonne et deux lignes) : les solutions analytique et numérique précédentes sur le premier et la valeur absolue des écarts entre les deux solutions sur le second graphique.\n",
    "> 2. Etudier l'évolution des erreurs en fonction du pas d'intégration (commencer par un pas égal à $\\tau$ puis diviser successivement par 5 le pas) et pour un pas d'intégration fixé en fonction du temps.\n",
    "\n",
    "Pour vous aider sur la manière de tracer une fenêtre multi-graphique, utiliser cet [élément de cours](https://pcsi3physiquestan.github.io/intro_python/notebook/plus_loin.html).\n",
    "\n",
    "_Informations utiles_:\n",
    "* Vous pouvez tout à fait créer un tracé (`ax[0].plot(...)`) à l'intérieur d'une boucle pour superposer plusieurs courbes."
   ]
  },
  {
   "cell_type": "code",
   "execution_count": null,
   "id": "minute-comparison",
   "metadata": {},
   "outputs": [],
   "source": []
  },
  {
   "cell_type": "markdown",
   "id": "broke-providence",
   "metadata": {},
   "source": [
    "### Rampe de tension\n",
    "\n",
    "On va aussi réaliser une étude énergétique. Pour cela, il faut calculer l'intensité $i$ par dérivation numérique puis l'énergie (dissipée ou fournie) par intégration numérique.\n",
    "\n",
    "#### Dérivation numérique.\n",
    "\n",
    "On va réaliser une dérivée numérique centrée. Pour un pas de temps $h$. On peut faire l'approximation de $y(t-h)$ et $y(t+h)$ par :\n",
    "\n",
    "$$\n",
    "\\begin{cases}\n",
    "y(t - h) &= y(t) - h \\frac{\\rm{d}y}{\\rm{dt}}(t)\\\\\n",
    "y(t + h) &= y(t) + h \\frac{\\rm{d}y}{\\rm{dt}}(t)\n",
    "\\end{cases}\n",
    "$$\n",
    "\n",
    "soit par soustraction :\n",
    "$$\n",
    "\\frac{\\rm{d}y}{\\rm{dt}}(t) = \\frac{y(t+h) - y(t-h)}{2h}\n",
    "$$\n",
    "\n",
    "soit pour la suite des $y_k$ (on note la suite des valeurs de la dérivée $i_k$):\n",
    "\n",
    "$$\n",
    "i_k = \\frac{\\rm{d}y}{\\rm{dt}}(t_k) = \\frac{y_{k+1} - y_{k-1}}{2h}\n",
    "$$\n",
    "\n",
    "Seul problème : __on ne peut utiliser cette expression pour calculer la dérivée pour $k=0$ et $k=k_{\\max}$__. Pour les deux valeurs extrêmes, on va utiliser l'expression :\n",
    "\n",
    "$$\n",
    "\\begin{cases}\n",
    "i_0 &= \\frac{y_{1} - y_{0}}{h} \\textrm{ Dérivation à droite}\\\\\n",
    "i_{k_{\\max}} &= \\frac{y_{k_{\\max}} - y_{k_{\\max} - 1}}{h} \\textrm{ Dérivation à gauche}\\\\\n",
    "\\end{cases}\n",
    "$$\n",
    "\n",
    "> __Exercice 4__\n",
    "> 1. Définir une fonction `deriv` qui prend comme argument le vecteur `y` des valeurs à dériver et le `pas` de calcul et qui renvoie le vecteur des valeurs dérivées.\n",
    "> 2. Vérifier son fonctionnement en calculant la dérivée des tensions pour les régimes libre et échelon de tension en traçant leur comparaison avec leurs expressions analytiques."
   ]
  },
  {
   "cell_type": "code",
   "execution_count": null,
   "id": "committed-blackberry",
   "metadata": {},
   "outputs": [],
   "source": []
  },
  {
   "cell_type": "markdown",
   "id": "solar-aruba",
   "metadata": {},
   "source": [
    "#### Intégration numérique.\n",
    "On applique la méthode des rectangles pour calculer numériquement l'intégrale de $y(t)$ entre $t_0$ et $t_k$. On note $s_k$ la valeur de cette intégrale et on prend $s_0 = 0$ (l'énergie échangé initialement sera nulle). On définit donc la récurrence :\n",
    "\n",
    "$$\n",
    "s_{k+1} = s_k + h * y_k\n",
    "$$\n",
    "\n",
    "> __Exercice 5__\n",
    "> 1. Définir une fonction `integ` qui prend comme argument le vecteur `y` à intégrer et le `pas` de calcul et qui renvoie le vecteur des valeurs intégrées.\n",
    "> 2. Vérifier son fonctionnement en calculant l'intégrale des tensions pour les régimes libre et échelon de tension en traçant leur comparaison avec leurs expressions analytiques."
   ]
  },
  {
   "cell_type": "code",
   "execution_count": null,
   "id": "widespread-robinson",
   "metadata": {},
   "outputs": [],
   "source": []
  },
  {
   "cell_type": "markdown",
   "id": "experimental-martin",
   "metadata": {},
   "source": [
    "#### Application à la rampe.\n",
    "On étudie un circuit RC série soumis à une tension $E(t)$ :\n",
    "\n",
    "$$\n",
    "E(t) = \n",
    "\\begin{cases}\n",
    "0 & \\textrm{si t <= 0}\\\\\n",
    "t / T0 & \\textrm{si 0 < t <= T0}\\\\\n",
    "1 & \\textrm{si t > T0}\\\\\n",
    "\\end{cases}\n",
    "$$\n",
    "\n",
    "On prendra $R = 1\\rm{k\\Omega}; C = 1\\rm{\\mu F}; T0 = k \\times \\tau; u(t=0) = 0 \\rm{V}$\n",
    "\n",
    "> __Exercice 6__\n",
    "> 1. Procéder à l'intégration de l'équation différentielle pour $k=2$ en choisissant un pas de calcul adapté.\n",
    "> 2. En déduire l'intensité circulant dans le condensateur, l'énergie stockée dans le condensateur (aux mêmes instants $t_k$), l'énergie dissipée par la résistance et l'énergie fournie par la source (entre t=0  et $t=t_k$).\n",
    "> 3. Représenter quatre graphiques dans une même fenêtre (2 lignes, 2 colonnes) représentant :\n",
    ">     * premier graphique : les tensions $E(t)$ et $u(t)$\n",
    ">     * deuxième graphique : l'intensité $i(t)$\n",
    ">     * troisième graphique ; le portrait de phase $u(t); u'(t)$\n",
    ">     * quatrième graphique ; l'évolution de l'énergie stockée dans le condensateur, celle délivrée par la source et celle dissipée par la résistance\n",
    "> 4. Analyser physiquement les courbes obtenues.\n",
    "> 5. Reprendre l'étude en augmentant $k$. On commentera notamment l'énergie dissipée par effet Joule.\n",
    "> 6. Quantifier l'évolution du rendement $\\eta = \\frac{E_{stockee}(+\\infty)}{E_{fournie}(+\\infty)}$ par rapport à $k$ par un tracé graphique adapté. On réfléchira à comment estimer $\\eta$ pour chaque valeur de $k$.\n",
    "\n",
    "_Pour étudier le rendement sur plusieurs décades entre $k=0.01$ et $k=1000$. Deux syntaxes utiles :_\n",
    "* `np.logspace(start, stop, N)` fonctionne comme `linspace` mais les points sont créés régulièrement sur un axe logarithmique entre $10^{start}$ et $10^{stop}$.\n",
    "* `ax.set_xscale('log')` permet de représenter les abscisses suivant une échelle logarithmique."
   ]
  },
  {
   "cell_type": "code",
   "execution_count": null,
   "id": "forward-ecology",
   "metadata": {},
   "outputs": [],
   "source": []
  }
 ],
 "metadata": {
  "jupytext": {
   "formats": "ipynb,md:myst,py:light"
  },
  "kernelspec": {
   "display_name": "Python 3",
   "language": "python",
   "name": "python3"
  },
  "language_info": {
   "codemirror_mode": {
    "name": "ipython",
    "version": 3
   },
   "file_extension": ".py",
   "mimetype": "text/x-python",
   "name": "python",
   "nbconvert_exporter": "python",
   "pygments_lexer": "ipython3",
   "version": "3.9.2"
  }
 },
 "nbformat": 4,
 "nbformat_minor": 5
}
