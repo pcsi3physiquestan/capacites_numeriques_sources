{
 "cells": [
  {
   "cell_type": "markdown",
   "id": "19cbfdff",
   "metadata": {},
   "source": [
    "# Introduction\n",
    "Le but de cet activité est de se familiariser avec les tracés graphiques et la manipulation des listes classiques et des vecteurs. On se basera sur ce qui a été fait en optique.\n",
    "\n",
    "Si vous n'êtes pas au point sur Python, revoir [l'introduction des bases](https://stanislas.edunao.com/mod/url/view.php?id=12821) et notamment la partie sur [les bibliothèques scientifiques](https://pcsi3physiquestan.github.io/intro_python/notebook/np_vecteurs.html).\n",
    "\n",
    "## Position du problème\n",
    "On considère un microscope constitué :\n",
    "* d'un objectif réalisé par une lentille mince de distance focale $f_{obj} = 4mm$ placé au point O.\n",
    "* d'un oculaire dit de Ramsden constitué de deux lentilles minces de même distance focale de distance focale $f_2 = f_3 = 3cm$ distantes de $\\overline{O_2 O_3} = {2 \\over 3}f_3$\n",
    "* la distance entre l'objectif et la première lentille de l'oculaire est $\\Delta = 18cm$ (on l'appellera _intervale optique_).\n",
    "\n",
    "Le but de l'exercice est de trouver par simulation numérique où placer un objet (de taille 1(unité arbitraire)) pour que l'image finale soit à l'infini.\n",
    "\n",
    "__On place l'origine de l'axe optique à l'emplacement de l'objectif et on suppose que le systèmes vérifient les conditions de Gauss.__"
   ]
  }
 ],
 "metadata": {
  "jupytext": {
   "encoding": "# -*- coding: utf-8 -*-",
   "formats": "ipynb,md:myst",
   "split_at_heading": true,
   "text_representation": {
    "extension": ".md",
    "format_name": "myst",
    "format_version": 0.13,
    "jupytext_version": "1.10.3"
   }
  },
  "kernelspec": {
   "display_name": "Python 3 (ipykernel)",
   "language": "python",
   "name": "python3"
  },
  "language_info": {
   "codemirror_mode": {
    "name": "ipython",
    "version": 3
   },
   "file_extension": ".py",
   "mimetype": "text/x-python",
   "name": "python",
   "nbconvert_exporter": "python",
   "pygments_lexer": "ipython3",
   "version": "3.9.6"
  }
 },
 "nbformat": 4,
 "nbformat_minor": 5
}
