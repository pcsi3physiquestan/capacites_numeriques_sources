{
 "cells": [
  {
   "cell_type": "markdown",
   "id": "f6c58574",
   "metadata": {},
   "source": [
    "# Approche théorique\n",
    "\n",
    "Il est important d'obtenir les relations théoriques d'étude AVANT de se lancer dans la programmation. Le but est de relier théoriquement les coordonnées d'un point image à celle d'un point objet et des caractéristiques de la lentille qui les conjugue.\n",
    "\n",
    "__On rappelle que l'origine des coordonnées sur l'axe optique est situé au point $O$.__ Il correspond aussi à l'origine de la coordonnée transverse d'un point. On considère :\n",
    "* Un point objet B dont les __coordonnées__ sont :\n",
    "    * $x_B$ sa coordonnée sur l'axe optique (position longitudinale)\n",
    "    * $d_B$ sa coordonnée transverse (position tranvsersale)\n",
    "* Une lentille :\n",
    "    * de distance focale image $f'$\n",
    "    * dont le centre optique $O_L$ est situé à la coordonnées $x_L$\n",
    "* Le point $B_1$, image de $B$ par la lentille $L$. Ses __coordonnées__ sont:\n",
    "    * $x_{B1}$ sa coordonnée sur l'axe optique (position longitudinale)\n",
    "    * $d_{B1}$ sa coordonnée transverse (position tranvsersale)\n",
    "\n",
    "````{admonition} Exercice\n",
    ":class: tip\n",
    "Exprimer $x_{B1}$ et $d_{B1}$ en fonction de $x_B$, $d_B$, $f'$ et $x_L$.  \n",
    "_Conseil:_ Faites un schéma en représentant les différentes grandeurs.\n",
    "````\n",
    "```{hint}\n",
    "_Indications utiles_ :\n",
    "* Attention à ne pas confondre la position absolue sur un axe et une distance relative entre deux éléments (cf. théorie).\n",
    "```\n",
    "````{hint}\n",
    ":class: dropdown\n",
    "Si vous avez des difficultés. Voici ce que vous devez trouver.\n",
    "Montrer que:\n",
    "\\begin{equation}\n",
    "\\begin{cases}\n",
    "x_{B1} &= x_L + \\frac{f' \\times (x_B - x_L)}{f' + x_B - x_L}\\\\\n",
    "d_{B1} &= d_{B} \\times \\frac{x_{B1} - x_L}{x_{B} - x_L}\n",
    "\\end{cases}\n",
    "\\end{equation}\n",
    "````"
   ]
  }
 ],
 "metadata": {
  "jupytext": {
   "encoding": "# -*- coding: utf-8 -*-",
   "formats": "ipynb,md:myst",
   "split_at_heading": true,
   "text_representation": {
    "extension": ".md",
    "format_name": "myst",
    "format_version": 0.13,
    "jupytext_version": "1.10.3"
   }
  },
  "kernelspec": {
   "display_name": "Python 3 (ipykernel)",
   "language": "python",
   "name": "python3"
  },
  "language_info": {
   "codemirror_mode": {
    "name": "ipython",
    "version": 3
   },
   "file_extension": ".py",
   "mimetype": "text/x-python",
   "name": "python",
   "nbconvert_exporter": "python",
   "pygments_lexer": "ipython3",
   "version": "3.9.6"
  }
 },
 "nbformat": 4,
 "nbformat_minor": 5
}
