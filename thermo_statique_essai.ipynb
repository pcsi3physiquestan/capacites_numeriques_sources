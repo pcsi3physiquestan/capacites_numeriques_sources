{
 "cells": [
  {
   "cell_type": "markdown",
   "id": "atmospheric-soviet",
   "metadata": {},
   "source": [
    "La page ci-présente existe en version notebook téléchargeable grâce au bouton ![Bouton](./images/bouton_tl.png) (choisir le format `.ipynb`). On rappelle qu'l faut ensuite l'enregistrer dans un répertoire adéquat sur votre ordinateur (`capa_num` par exemple dans votre répertoire personnel) puis lancer Jupyter Notebook depuis Anaconda pour accéder au notebook, le modifier et exécutez les cellules de code adéquates.\n",
    "\n",
    "# Etude de l'atmosphère terrestre\n",
    "\n",
    "__But :__ étudier les variations de température et de pression dans l'atmosphère.\n",
    "\n",
    "## Position du problème\n",
    "### Modélisation de l'atmosphère\n",
    "Dans le cadre du modèle ISA (International Standard Atmosphere), l'atmosphère est divisée en différentes couches, au sein desquelles la température est supposée suivre une [loi affine](https://fr.wikipedia.org/w/index.php?title=Atmosphère_normalisée&oldid=181118275). La valeur du gradient vertical de température dans chacune de ces couches est normalisée."
   ]
  },
  {
   "cell_type": "code",
   "execution_count": 1,
   "id": "copyrighted-enforcement",
   "metadata": {},
   "outputs": [
    {
     "data": {
      "text/html": [
       "<style  type=\"text/css\" >\n",
       "</style><table id=\"T_b8fc3_\" ><thead>    <tr>        <th class=\"blank level0\" ></th>        <th class=\"col_heading level0 col0\" >Couche atmosphérique</th>        <th class=\"col_heading level0 col1\" >Altitude de la base (km)</th>        <th class=\"col_heading level0 col2\" >Gradient thermique vertical (K/km)</th>    </tr></thead><tbody>\n",
       "                <tr>\n",
       "                        <th id=\"T_b8fc3_level0_row0\" class=\"row_heading level0 row0\" >0</th>\n",
       "                        <td id=\"T_b8fc3_row0_col0\" class=\"data row0 col0\" >Troposphère</td>\n",
       "                        <td id=\"T_b8fc3_row0_col1\" class=\"data row0 col1\" >0</td>\n",
       "                        <td id=\"T_b8fc3_row0_col2\" class=\"data row0 col2\" >-6.5</td>\n",
       "            </tr>\n",
       "            <tr>\n",
       "                        <th id=\"T_b8fc3_level0_row1\" class=\"row_heading level0 row1\" >1</th>\n",
       "                        <td id=\"T_b8fc3_row1_col0\" class=\"data row1 col0\" >Tropopause</td>\n",
       "                        <td id=\"T_b8fc3_row1_col1\" class=\"data row1 col1\" >11</td>\n",
       "                        <td id=\"T_b8fc3_row1_col2\" class=\"data row1 col2\" >0</td>\n",
       "            </tr>\n",
       "            <tr>\n",
       "                        <th id=\"T_b8fc3_level0_row2\" class=\"row_heading level0 row2\" >2</th>\n",
       "                        <td id=\"T_b8fc3_row2_col0\" class=\"data row2 col0\" >Stratosphère</td>\n",
       "                        <td id=\"T_b8fc3_row2_col1\" class=\"data row2 col1\" >20</td>\n",
       "                        <td id=\"T_b8fc3_row2_col2\" class=\"data row2 col2\" >1.0</td>\n",
       "            </tr>\n",
       "            <tr>\n",
       "                        <th id=\"T_b8fc3_level0_row3\" class=\"row_heading level0 row3\" >3</th>\n",
       "                        <td id=\"T_b8fc3_row3_col0\" class=\"data row3 col0\" >Stratosphère</td>\n",
       "                        <td id=\"T_b8fc3_row3_col1\" class=\"data row3 col1\" >32</td>\n",
       "                        <td id=\"T_b8fc3_row3_col2\" class=\"data row3 col2\" >2.8</td>\n",
       "            </tr>\n",
       "            <tr>\n",
       "                        <th id=\"T_b8fc3_level0_row4\" class=\"row_heading level0 row4\" >4</th>\n",
       "                        <td id=\"T_b8fc3_row4_col0\" class=\"data row4 col0\" >Stratopause</td>\n",
       "                        <td id=\"T_b8fc3_row4_col1\" class=\"data row4 col1\" >47</td>\n",
       "                        <td id=\"T_b8fc3_row4_col2\" class=\"data row4 col2\" >0</td>\n",
       "            </tr>\n",
       "            <tr>\n",
       "                        <th id=\"T_b8fc3_level0_row5\" class=\"row_heading level0 row5\" >5</th>\n",
       "                        <td id=\"T_b8fc3_row5_col0\" class=\"data row5 col0\" >Mesosphère</td>\n",
       "                        <td id=\"T_b8fc3_row5_col1\" class=\"data row5 col1\" >51</td>\n",
       "                        <td id=\"T_b8fc3_row5_col2\" class=\"data row5 col2\" >-2.8</td>\n",
       "            </tr>\n",
       "            <tr>\n",
       "                        <th id=\"T_b8fc3_level0_row6\" class=\"row_heading level0 row6\" >6</th>\n",
       "                        <td id=\"T_b8fc3_row6_col0\" class=\"data row6 col0\" >Mesosphère</td>\n",
       "                        <td id=\"T_b8fc3_row6_col1\" class=\"data row6 col1\" >71</td>\n",
       "                        <td id=\"T_b8fc3_row6_col2\" class=\"data row6 col2\" >-2.0</td>\n",
       "            </tr>\n",
       "            <tr>\n",
       "                        <th id=\"T_b8fc3_level0_row7\" class=\"row_heading level0 row7\" >7</th>\n",
       "                        <td id=\"T_b8fc3_row7_col0\" class=\"data row7 col0\" >Mesopause</td>\n",
       "                        <td id=\"T_b8fc3_row7_col1\" class=\"data row7 col1\" >85</td>\n",
       "                        <td id=\"T_b8fc3_row7_col2\" class=\"data row7 col2\" >NA</td>\n",
       "            </tr>\n",
       "    </tbody></table>"
      ],
      "text/plain": [
       "<pandas.io.formats.style.Styler at 0x7fda6f9b1550>"
      ]
     },
     "execution_count": 1,
     "metadata": {},
     "output_type": "execute_result"
    }
   ],
   "source": [
    "import numpy as np\n",
    "import matplotlib.pyplot as plt\n",
    "import pandas as pd  # Pour l'affichage des données\n",
    "\"\"\"Données normalisées pour chaque couche de l'atmosphère.\n",
    "Vous pourrez utiliser ces vecteurs par la suite.\n",
    "\"\"\"\n",
    "\n",
    "couche = [\"Troposphère\", \"Tropopause\", \"Stratosphère\", \"Stratosphère\", \"Stratopause\", \"Mesosphère\", \"Mesosphère\", \"Mesopause\"]\n",
    "altitude = [0, 11, 20, 32, 47, 51, 71, 85]\n",
    "gradient = [- 6.5, 0, + 1.0, + 2.8, 0, - 2.8, - 2.0, \"NA\"]  # Attention il faudrait traiter le dernier élément qui n'est pas un nombre.\n",
    "\n",
    "\"\"\"Affichage des données\n",
    "La syntaxe utilisée n'est pas à connaître.\n",
    "\"\"\"\n",
    "datas = pd.DataFrame({\n",
    "    \"Couche atmosphérique\" : couche,\n",
    "    \"Altitude de la base (km)\" : altitude,\n",
    "    \"Gradient thermique vertical (K/km)\" : [\"{:.1f}\".format(i)  if type(i)==float else i for i  in gradient]\n",
    "})\n",
    "\n",
    "datas.style"
   ]
  },
  {
   "cell_type": "markdown",
   "id": "adjusted-feedback",
   "metadata": {},
   "source": [
    "On propose ici de déterminer numériquement la loi de variation de la pression atmosphérique avec l'altitude $z$ dans le cadre du modèle ISA, en supposant que l'atmosphère est __un gaz parfait au repos__ dans le référentiel terrestre galiléen et en négligeant les variations de la pesanteur avec l'altitude. On fixe les valeurs de la température et de la pression au niveau du sol (en z = 0) respectivement à :\n",
    "\n",
    "$$\n",
    "\\begin{cases}\n",
    "T_{sol} &= 288 K\\\\\n",
    "P_{sol} &= 1.013 \\times 10^5 Pa\n",
    "\\end{cases}\n",
    "$$\n",
    "\n",
    "On utilisera les données obtenues pour étudier les  mouvements d'un ballon sonde."
   ]
  },
  {
   "cell_type": "markdown",
   "id": "cardiovascular-criticism",
   "metadata": {},
   "source": [
    "#### Données numériques\n",
    "On prend :\n",
    "\\begin{align}\n",
    "\\textrm{Accélération de la pesanteur} &:& g = 9.81 m.s^{-2}\\\\\n",
    "\\textrm{Masse molaire de l'air} &:& M_{air} = 29 g.mol^{-1}\\\\\n",
    "\\textrm{Constante des gaz parfaits} &:& R = 8.314 J.K^{-1}.mol^{-1}\n",
    "\\end{align}"
   ]
  },
  {
   "cell_type": "markdown",
   "id": "logical-thickness",
   "metadata": {},
   "source": [
    "### Mise en équation\n",
    "On dispose de deux fonctions à intégrer : $T(z)$ et $P(z)$ de deux équations : le modèle affine par morceaux de la température et l'équation de la statique des fluides appliquées à un gaz parfait. Il vient le système (on note le gradient $k_{ISA}$ de température) :\n",
    "\n",
    "$$\n",
    "\\begin{cases}\n",
    "\\frac{\\rm{d}T}{\\rm{dz}}(z) &= k_{ISA}(z) \\\\\n",
    "\\frac{\\rm{d}P}{\\rm{dz}}(z) &= - {M_{air} g \\over RT(z)} \\times P(z)\n",
    "\\end{cases}\n",
    "$$\n",
    "\n",
    "avec \n",
    "\n",
    "$$\n",
    "\\begin{cases}\n",
    "T(z = 0) &= T_{sol} \\\\\n",
    "P(z = 0) &= P_{sol}\n",
    "\\end{cases}\n",
    "$$\n",
    "\n",
    "### Schéma d'Euler explicite\n",
    "On utilise un schéma d'Euler explicite pour le vecteur :\n",
    "\n",
    "$$Y(z) = \\begin{cases}T(z) \\\\ P(z) \\end{cases}$$\n",
    "\n",
    "Pour un pas d'intégration $h$ et une suite de valeurs $Y_k$ aux altitudes $z_k$, on utilisera la relation de récurrence :\n",
    "\n",
    "$$\n",
    "Y_k{k+1} = Y_k + h \\times F(z_k, Y_k)\n",
    "$$"
   ]
  },
  {
   "cell_type": "markdown",
   "id": "incorporate-treat",
   "metadata": {},
   "source": [
    "## Détermination du profil de pression et température\n",
    "\n",
    "> __Exercice 1 :__  \n",
    "> 1. Ecrire une fonction `kISA` qui prend comme argument une altitude `z` et qui renvoie le gradient de température $k_{ISA}(z)$ associé. Pensez à utiliser les listes définies au début.\n",
    "> 2. Ecrire une fonction `F_atm(z, Y)` qui prend comme argument l'altitude `z` et le vecteur `Y`$=[T(z), P(z)]$ et qui renvoie la fonction `F` définie précédemment pour ces valeurs. _On rappelle que `F` doit être un __vecteur__._\n",
    "> 3. Ecrire une fonction `euler(F, pas, Y0, zf)` qui implémente le schéma d'Euler explicite pour une fonction `F` avec un `pas` d'intégration, des conditions aux limites données par le vecteur `Y0`  en $z=0$ et l'altitude finale de l'intégration `zf`. Elle doit renvoyer un vecteur donnant les altitudes de calcul et un tableau à deux colonnes donnant les solutions $[T_k, P_k]$\n",
    "> 4. Utiliser la fonction précédente pour obtenir le profil de température et de pression dans l'atmosphère pour le modèle ISA.\n",
    "> 5. Tracer deux deux graphiques les profils $T(z)$ et $P(z)$."
   ]
  },
  {
   "cell_type": "code",
   "execution_count": 45,
   "id": "selective-beatles",
   "metadata": {},
   "outputs": [
    {
     "data": {
      "image/png": "[encoded data removed]",
      "text/plain": [
       "<Figure size 864x576 with 2 Axes>"
      ]
     },
     "metadata": {
      "needs_background": "light"
     },
     "output_type": "display_data"
    },
    {
     "name": "stdout",
     "output_type": "stream",
     "text": [
      "[0.42462264 0.42454557 0.42446852 0.42439148 0.42431445 0.42423744\n",
      " 0.42416044 0.42408345 0.42400647 0.42392951]\n"
     ]
    }
   ],
   "source": [
    "from scipy.integrate import odeint\n",
    "\"\"\"Les bibliothèques scientifiques ont déjà été importées\"\"\"\n",
    "Mair = 0.029\n",
    "g = 9.81\n",
    "R = 8.314\n",
    "\n",
    "def kISA(z):\n",
    "    i=0\n",
    "    while i<len(gradient) and z >= altitude[i]*1000:\n",
    "        i = i +1\n",
    "    return gradient[i-1]/1000\n",
    "\n",
    "def F_atm(z,Y):\n",
    "    return [kISA(z), -Mair * g / (R * Y[0]) * Y[1]]\n",
    "\n",
    "zk = np.arange(0, 84000, 1)\n",
    "sol = odeint(F_atm, [288., 1.013e5], zk, tfirst=True)\n",
    "T_sol = sol[:,0]\n",
    "P_sol = sol[:,1]\n",
    "\n",
    "f, ax = plt.subplots(1,2, figsize=(12,8), sharey=\"row\")\n",
    "f.suptitle(\"Profils de température et de pression\")\n",
    "ax[0].set_xlabel(\"T\")\n",
    "ax[0].set_ylabel(\"z\")\n",
    "ax[1].set_xlabel(\"P\")\n",
    "ax[1].set_ylabel(\"z\")\n",
    "\n",
    "ax[0].plot(T_sol, zk)\n",
    "ax[1].plot(P_sol, zk)\n",
    "ax[0].grid()\n",
    "ax[1].grid()\n",
    "plt.show()\n",
    "print(P_sol[-10:])"
   ]
  },
  {
   "cell_type": "markdown",
   "id": "suited-brighton",
   "metadata": {},
   "source": [
    "> __Exercice 2 :__  \n",
    "> 1. Reprendre l'exercice précédent mais en utilisant la fonction `odeint` dela bibliothèque `scipy.integrate`\n",
    "\n",
    "_Indications utiles_ : \n",
    "* Pour pouvoir réutiliser la fonction `F_atm`, pensez à ajouter l'argument `tfirst=True` dans la fonction `odeint`."
   ]
  },
  {
   "cell_type": "code",
   "execution_count": 55,
   "id": "exterior-military",
   "metadata": {},
   "outputs": [],
   "source": [
    "from scipy.integrate import odeint\n"
   ]
  },
  {
   "cell_type": "markdown",
   "id": "bibliographic-bunch",
   "metadata": {},
   "source": [
    "## Dimensionnement d'un ballon-sonde atmosphérique\n",
    "Les ballons-sonde stratosphériques constituent une solution simple et relativement économique pour envoyer une charge dans l'atmosphère. Équipés de capteurs divers, ils peuvent par exemple permettre de relever les valeurs de la pression, de la température, de l'humidité ou encore devitesse du vent dans les différentes couches de l'atmosphère traversées\n",
    "\n",
    "### Position du problème\n",
    "\n",
    "On considère ici un ballon-sonde stratosphérique \"ouvert\", constitué d'une enveloppe de volume $V$ ouverte sur l'extérieur par des manches d'évacuation situées à la base du ballon. Au moment du lancement, le ballon est gonflé à l'hélium ($M_{He} = 4,0 g.mol^{-1}$) ; l'enveloppe garde un volume constant tout au long de l'ascension. Le ballon étant ouvert à sa base, la pression à l'intérieur du ballon est identique à tout moment à la pression atmosphérique. La masse de l'ensemble { enveloppe (hors hélium) + nacelle + instruments embarqués } est $m = 10 kg$.\n",
    "\n",
    "> __Exercice 2 :__\n",
    "> On souhaite que le ballon atteigne une altitude $z_{max}$ choisie.\n",
    "> 1. Estimer le volume $V$ de l'enveloppe qui permet d'atteindre cette altitude puis le diamètre du ballon associé.\n",
    "> Vous devrez :\n",
    "> * Préciser la modélisation et le paramétrage du problème. On discutera notamment des hypothèses choisies.\n",
    "> * Tracer V et d en fonction de$z_{max}$.\n",
    "> * Estimer V et d pour $z_{max} = 36 km$ en procédant par dichotomie pour trouver l'indice donnant l'altitude la plus proche de $z_{max}$. Commenter la possibilité pour des amateurs de réaliser un tel ballon."
   ]
  },
  {
   "cell_type": "code",
   "execution_count": null,
   "id": "former-satisfaction",
   "metadata": {},
   "outputs": [],
   "source": []
  },
  {
   "cell_type": "markdown",
   "id": "colored-phenomenon",
   "metadata": {},
   "source": [
    "## Complément\n",
    "> __Exercice 3 :__  \n",
    "> Si le temps le permet, reprendre l'intégration du système mais en tenant compte des variation du champ de pesanteur avec l'altitude en assimilant ce dernier au champ de gravitation terrestre.  \n",
    "> Vous représenterez les champs de pression pour les deux modèles (champ de pesanteur uniforme et non uniforme) ainsi que le tracé de l'écart relatif entre les deux modèles en fonction de l'altitude."
   ]
  },
  {
   "cell_type": "code",
   "execution_count": null,
   "id": "sudden-desktop",
   "metadata": {},
   "outputs": [],
   "source": []
  }
 ],
 "metadata": {
  "jupytext": {
   "encoding": "# -*- coding: utf-8 -*-",
   "formats": "ipynb,py:light,md:myst"
  },
  "kernelspec": {
   "display_name": "Python 3",
   "language": "python",
   "name": "python3"
  },
  "language_info": {
   "codemirror_mode": {
    "name": "ipython",
    "version": 3
   },
   "file_extension": ".py",
   "mimetype": "text/x-python",
   "name": "python",
   "nbconvert_exporter": "python",
   "pygments_lexer": "ipython3",
   "version": "3.9.2"
  }
 },
 "nbformat": 4,
 "nbformat_minor": 5
}
